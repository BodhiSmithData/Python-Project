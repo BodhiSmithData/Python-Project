{
 "cells": [
  {
   "cell_type": "markdown",
   "id": "b5b9c5ae-e99c-4dc8-b56f-81f82fa6342e",
   "metadata": {},
   "source": [
    "importing"
   ]
  },
  {
   "cell_type": "code",
   "execution_count": 1,
   "id": "a0cf7cba-da24-47b8-846a-37a454d20105",
   "metadata": {},
   "outputs": [],
   "source": [
    "#importing \n",
    "import pandas as pd\n",
    "import numpy as np\n",
    "import os\n",
    "import matplotlib.pyplot as plt\n",
    "import seaborn as sns\n",
    "import scipy"
   ]
  },
  {
   "cell_type": "code",
   "execution_count": 2,
   "id": "19c60d8d-e548-48a5-bdc9-7ddb38006bf7",
   "metadata": {},
   "outputs": [],
   "source": [
    "ords_prods_merge = pd.read_pickle(r\"C:\\Users\\bodhi\\Downloads\\instacart basket analysis\\data\\prepared data\\ords_prods_merge_5.pkl\")"
   ]
  },
  {
   "cell_type": "code",
   "execution_count": 3,
   "id": "cd3a4467-d61a-464f-a409-73fa0276384b",
   "metadata": {},
   "outputs": [],
   "source": [
    "ords_prods_merge1 = pd.read_pickle(r\"C:\\Users\\bodhi\\Downloads\\instacart basket analysis\\data\\prepared data\\ords_prods_merge_3.pkl\")"
   ]
  },
  {
   "cell_type": "code",
   "execution_count": 4,
   "id": "d335f675-2348-424b-926a-f2fd864138ed",
   "metadata": {},
   "outputs": [],
   "source": [
    "ords_prods_merge2 = pd.read_pickle(r\"C:\\Users\\bodhi\\Downloads\\instacart basket analysis\\data\\prepared data\\ords_prods_merge_4.pkl\")"
   ]
  },
  {
   "cell_type": "code",
   "execution_count": 5,
   "id": "48213ed9-fff5-434e-a6a8-1b547b1b0572",
   "metadata": {},
   "outputs": [],
   "source": [
    "ords_prods_merge['prices'] = ords_prods_merge1['prices']"
   ]
  },
  {
   "cell_type": "code",
   "execution_count": 6,
   "id": "daa3779a-a1d3-42bc-8cab-054d07f0dd92",
   "metadata": {},
   "outputs": [],
   "source": [
    "ords_prods_merge['order_hour_of_day'] = ords_prods_merge1['order_hour_of_day']"
   ]
  },
  {
   "cell_type": "code",
   "execution_count": 7,
   "id": "a2d48495-3a6c-494a-900d-ee8c63407aef",
   "metadata": {},
   "outputs": [],
   "source": [
    "ords_prods_merge['prices'] = ords_prods_merge1['prices']"
   ]
  },
  {
   "cell_type": "markdown",
   "id": "a28852ca-6bd2-4a1e-993c-7343b9574e16",
   "metadata": {},
   "source": [
    "visualisation"
   ]
  },
  {
   "cell_type": "code",
   "execution_count": 8,
   "id": "e2891c56-f0b8-4e8b-a866-597015feb9b0",
   "metadata": {},
   "outputs": [
    {
     "data": {
      "text/html": [
       "<div>\n",
       "<style scoped>\n",
       "    .dataframe tbody tr th:only-of-type {\n",
       "        vertical-align: middle;\n",
       "    }\n",
       "\n",
       "    .dataframe tbody tr th {\n",
       "        vertical-align: top;\n",
       "    }\n",
       "\n",
       "    .dataframe thead th {\n",
       "        text-align: right;\n",
       "    }\n",
       "</style>\n",
       "<table border=\"1\" class=\"dataframe\">\n",
       "  <thead>\n",
       "    <tr style=\"text-align: right;\">\n",
       "      <th></th>\n",
       "      <th>user_id</th>\n",
       "      <th>First Name</th>\n",
       "      <th>Surname</th>\n",
       "      <th>Gender</th>\n",
       "      <th>State</th>\n",
       "      <th>Age</th>\n",
       "      <th>date_joined</th>\n",
       "      <th>fam_status</th>\n",
       "      <th>income</th>\n",
       "      <th>order_id</th>\n",
       "      <th>...</th>\n",
       "      <th>department_id</th>\n",
       "      <th>match</th>\n",
       "      <th>price_range_loc</th>\n",
       "      <th>bussiest_days</th>\n",
       "      <th>bussiest_hours</th>\n",
       "      <th>max_order</th>\n",
       "      <th>loyalty_flag</th>\n",
       "      <th>spending_flag</th>\n",
       "      <th>order_frequency</th>\n",
       "      <th>prices</th>\n",
       "    </tr>\n",
       "  </thead>\n",
       "  <tbody>\n",
       "    <tr>\n",
       "      <th>0</th>\n",
       "      <td>26711</td>\n",
       "      <td>Deborah</td>\n",
       "      <td>Esquivel</td>\n",
       "      <td>Female</td>\n",
       "      <td>Missouri</td>\n",
       "      <td>48</td>\n",
       "      <td>1/1/2017</td>\n",
       "      <td>married</td>\n",
       "      <td>165665</td>\n",
       "      <td>518967</td>\n",
       "      <td>...</td>\n",
       "      <td>4</td>\n",
       "      <td>both</td>\n",
       "      <td>Low-range product</td>\n",
       "      <td>Regularly busy</td>\n",
       "      <td>average orders</td>\n",
       "      <td>8</td>\n",
       "      <td>New customer</td>\n",
       "      <td>low_spender</td>\n",
       "      <td>regular_customer</td>\n",
       "      <td>9.0</td>\n",
       "    </tr>\n",
       "    <tr>\n",
       "      <th>1</th>\n",
       "      <td>26711</td>\n",
       "      <td>Deborah</td>\n",
       "      <td>Esquivel</td>\n",
       "      <td>Female</td>\n",
       "      <td>Missouri</td>\n",
       "      <td>48</td>\n",
       "      <td>1/1/2017</td>\n",
       "      <td>married</td>\n",
       "      <td>165665</td>\n",
       "      <td>423547</td>\n",
       "      <td>...</td>\n",
       "      <td>16</td>\n",
       "      <td>both</td>\n",
       "      <td>Mid-range product</td>\n",
       "      <td>Regularly busy</td>\n",
       "      <td>average orders</td>\n",
       "      <td>8</td>\n",
       "      <td>New customer</td>\n",
       "      <td>low_spender</td>\n",
       "      <td>regular_customer</td>\n",
       "      <td>12.5</td>\n",
       "    </tr>\n",
       "    <tr>\n",
       "      <th>2</th>\n",
       "      <td>26711</td>\n",
       "      <td>Deborah</td>\n",
       "      <td>Esquivel</td>\n",
       "      <td>Female</td>\n",
       "      <td>Missouri</td>\n",
       "      <td>48</td>\n",
       "      <td>1/1/2017</td>\n",
       "      <td>married</td>\n",
       "      <td>165665</td>\n",
       "      <td>2524893</td>\n",
       "      <td>...</td>\n",
       "      <td>16</td>\n",
       "      <td>both</td>\n",
       "      <td>Mid-range product</td>\n",
       "      <td>Least busy</td>\n",
       "      <td>most orders</td>\n",
       "      <td>8</td>\n",
       "      <td>New customer</td>\n",
       "      <td>low_spender</td>\n",
       "      <td>regular_customer</td>\n",
       "      <td>4.4</td>\n",
       "    </tr>\n",
       "    <tr>\n",
       "      <th>3</th>\n",
       "      <td>26711</td>\n",
       "      <td>Deborah</td>\n",
       "      <td>Esquivel</td>\n",
       "      <td>Female</td>\n",
       "      <td>Missouri</td>\n",
       "      <td>48</td>\n",
       "      <td>1/1/2017</td>\n",
       "      <td>married</td>\n",
       "      <td>165665</td>\n",
       "      <td>2524893</td>\n",
       "      <td>...</td>\n",
       "      <td>4</td>\n",
       "      <td>both</td>\n",
       "      <td>Low-range product</td>\n",
       "      <td>Least busy</td>\n",
       "      <td>most orders</td>\n",
       "      <td>8</td>\n",
       "      <td>New customer</td>\n",
       "      <td>low_spender</td>\n",
       "      <td>regular_customer</td>\n",
       "      <td>4.7</td>\n",
       "    </tr>\n",
       "    <tr>\n",
       "      <th>4</th>\n",
       "      <td>26711</td>\n",
       "      <td>Deborah</td>\n",
       "      <td>Esquivel</td>\n",
       "      <td>Female</td>\n",
       "      <td>Missouri</td>\n",
       "      <td>48</td>\n",
       "      <td>1/1/2017</td>\n",
       "      <td>married</td>\n",
       "      <td>165665</td>\n",
       "      <td>2524893</td>\n",
       "      <td>...</td>\n",
       "      <td>4</td>\n",
       "      <td>both</td>\n",
       "      <td>Mid-range product</td>\n",
       "      <td>Least busy</td>\n",
       "      <td>most orders</td>\n",
       "      <td>8</td>\n",
       "      <td>New customer</td>\n",
       "      <td>low_spender</td>\n",
       "      <td>regular_customer</td>\n",
       "      <td>1.0</td>\n",
       "    </tr>\n",
       "  </tbody>\n",
       "</table>\n",
       "<p>5 rows × 30 columns</p>\n",
       "</div>"
      ],
      "text/plain": [
       "  user_id First Name   Surname  Gender     State  Age date_joined fam_status  \\\n",
       "0   26711    Deborah  Esquivel  Female  Missouri   48    1/1/2017    married   \n",
       "1   26711    Deborah  Esquivel  Female  Missouri   48    1/1/2017    married   \n",
       "2   26711    Deborah  Esquivel  Female  Missouri   48    1/1/2017    married   \n",
       "3   26711    Deborah  Esquivel  Female  Missouri   48    1/1/2017    married   \n",
       "4   26711    Deborah  Esquivel  Female  Missouri   48    1/1/2017    married   \n",
       "\n",
       "   income  order_id  ... department_id  match    price_range_loc  \\\n",
       "0  165665    518967  ...             4   both  Low-range product   \n",
       "1  165665    423547  ...            16   both  Mid-range product   \n",
       "2  165665   2524893  ...            16   both  Mid-range product   \n",
       "3  165665   2524893  ...             4   both  Low-range product   \n",
       "4  165665   2524893  ...             4   both  Mid-range product   \n",
       "\n",
       "    bussiest_days  bussiest_hours max_order  loyalty_flag  spending_flag  \\\n",
       "0  Regularly busy  average orders         8  New customer    low_spender   \n",
       "1  Regularly busy  average orders         8  New customer    low_spender   \n",
       "2      Least busy     most orders         8  New customer    low_spender   \n",
       "3      Least busy     most orders         8  New customer    low_spender   \n",
       "4      Least busy     most orders         8  New customer    low_spender   \n",
       "\n",
       "    order_frequency  prices  \n",
       "0  regular_customer     9.0  \n",
       "1  regular_customer    12.5  \n",
       "2  regular_customer     4.4  \n",
       "3  regular_customer     4.7  \n",
       "4  regular_customer     1.0  \n",
       "\n",
       "[5 rows x 30 columns]"
      ]
     },
     "execution_count": 8,
     "metadata": {},
     "output_type": "execute_result"
    }
   ],
   "source": [
    "ords_prods_merge.head()"
   ]
  },
  {
   "cell_type": "code",
   "execution_count": 9,
   "id": "0ec14b4b-9568-4347-b110-015a3cdf0db6",
   "metadata": {},
   "outputs": [
    {
     "name": "stderr",
     "output_type": "stream",
     "text": [
      "C:\\Users\\bodhi\\anaconda3\\Lib\\site-packages\\pandas\\io\\formats\\format.py:1458: RuntimeWarning: overflow encountered in cast\n",
      "  has_large_values = (abs_vals > 1e6).any()\n",
      "C:\\Users\\bodhi\\anaconda3\\Lib\\site-packages\\pandas\\io\\formats\\format.py:1458: RuntimeWarning: overflow encountered in cast\n",
      "  has_large_values = (abs_vals > 1e6).any()\n"
     ]
    },
    {
     "data": {
      "text/html": [
       "<div>\n",
       "<style scoped>\n",
       "    .dataframe tbody tr th:only-of-type {\n",
       "        vertical-align: middle;\n",
       "    }\n",
       "\n",
       "    .dataframe tbody tr th {\n",
       "        vertical-align: top;\n",
       "    }\n",
       "\n",
       "    .dataframe thead th {\n",
       "        text-align: right;\n",
       "    }\n",
       "</style>\n",
       "<table border=\"1\" class=\"dataframe\">\n",
       "  <thead>\n",
       "    <tr style=\"text-align: right;\">\n",
       "      <th></th>\n",
       "      <th>order_id</th>\n",
       "      <th>user_id</th>\n",
       "      <th>eval_set</th>\n",
       "      <th>order_number</th>\n",
       "      <th>order_dow</th>\n",
       "      <th>order_hour_of_day</th>\n",
       "      <th>days_since_prior_order</th>\n",
       "      <th>order_type</th>\n",
       "      <th>product_id</th>\n",
       "      <th>add_to_cart_order</th>\n",
       "      <th>...</th>\n",
       "      <th>price_range_loc</th>\n",
       "      <th>bussiest_days</th>\n",
       "      <th>bussiest_hours</th>\n",
       "      <th>max_order</th>\n",
       "      <th>loyalty_flag</th>\n",
       "      <th>average price</th>\n",
       "      <th>average_price</th>\n",
       "      <th>spending_flag</th>\n",
       "      <th>median_days_since_order</th>\n",
       "      <th>order_frequency</th>\n",
       "    </tr>\n",
       "  </thead>\n",
       "  <tbody>\n",
       "    <tr>\n",
       "      <th>0</th>\n",
       "      <td>2539329</td>\n",
       "      <td>1</td>\n",
       "      <td>prior</td>\n",
       "      <td>1</td>\n",
       "      <td>2</td>\n",
       "      <td>8</td>\n",
       "      <td>NaN</td>\n",
       "      <td>First Order</td>\n",
       "      <td>196</td>\n",
       "      <td>1</td>\n",
       "      <td>...</td>\n",
       "      <td>Mid-range product</td>\n",
       "      <td>Regularly busy</td>\n",
       "      <td>average orders</td>\n",
       "      <td>10</td>\n",
       "      <td>New customer</td>\n",
       "      <td>6.367797</td>\n",
       "      <td>6.367797</td>\n",
       "      <td>low_spender</td>\n",
       "      <td>20.5</td>\n",
       "      <td>non_frequent_customer</td>\n",
       "    </tr>\n",
       "    <tr>\n",
       "      <th>1</th>\n",
       "      <td>2539329</td>\n",
       "      <td>1</td>\n",
       "      <td>prior</td>\n",
       "      <td>1</td>\n",
       "      <td>2</td>\n",
       "      <td>8</td>\n",
       "      <td>NaN</td>\n",
       "      <td>First Order</td>\n",
       "      <td>14084</td>\n",
       "      <td>2</td>\n",
       "      <td>...</td>\n",
       "      <td>Mid-range product</td>\n",
       "      <td>Regularly busy</td>\n",
       "      <td>average orders</td>\n",
       "      <td>10</td>\n",
       "      <td>New customer</td>\n",
       "      <td>6.367797</td>\n",
       "      <td>6.367797</td>\n",
       "      <td>low_spender</td>\n",
       "      <td>20.5</td>\n",
       "      <td>non_frequent_customer</td>\n",
       "    </tr>\n",
       "    <tr>\n",
       "      <th>2</th>\n",
       "      <td>2539329</td>\n",
       "      <td>1</td>\n",
       "      <td>prior</td>\n",
       "      <td>1</td>\n",
       "      <td>2</td>\n",
       "      <td>8</td>\n",
       "      <td>NaN</td>\n",
       "      <td>First Order</td>\n",
       "      <td>12427</td>\n",
       "      <td>3</td>\n",
       "      <td>...</td>\n",
       "      <td>Low-range product</td>\n",
       "      <td>Regularly busy</td>\n",
       "      <td>average orders</td>\n",
       "      <td>10</td>\n",
       "      <td>New customer</td>\n",
       "      <td>6.367797</td>\n",
       "      <td>6.367797</td>\n",
       "      <td>low_spender</td>\n",
       "      <td>20.5</td>\n",
       "      <td>non_frequent_customer</td>\n",
       "    </tr>\n",
       "    <tr>\n",
       "      <th>3</th>\n",
       "      <td>2539329</td>\n",
       "      <td>1</td>\n",
       "      <td>prior</td>\n",
       "      <td>1</td>\n",
       "      <td>2</td>\n",
       "      <td>8</td>\n",
       "      <td>NaN</td>\n",
       "      <td>First Order</td>\n",
       "      <td>26088</td>\n",
       "      <td>4</td>\n",
       "      <td>...</td>\n",
       "      <td>Low-range product</td>\n",
       "      <td>Regularly busy</td>\n",
       "      <td>average orders</td>\n",
       "      <td>10</td>\n",
       "      <td>New customer</td>\n",
       "      <td>6.367797</td>\n",
       "      <td>6.367797</td>\n",
       "      <td>low_spender</td>\n",
       "      <td>20.5</td>\n",
       "      <td>non_frequent_customer</td>\n",
       "    </tr>\n",
       "    <tr>\n",
       "      <th>4</th>\n",
       "      <td>2539329</td>\n",
       "      <td>1</td>\n",
       "      <td>prior</td>\n",
       "      <td>1</td>\n",
       "      <td>2</td>\n",
       "      <td>8</td>\n",
       "      <td>NaN</td>\n",
       "      <td>First Order</td>\n",
       "      <td>26405</td>\n",
       "      <td>5</td>\n",
       "      <td>...</td>\n",
       "      <td>Low-range product</td>\n",
       "      <td>Regularly busy</td>\n",
       "      <td>average orders</td>\n",
       "      <td>10</td>\n",
       "      <td>New customer</td>\n",
       "      <td>6.367797</td>\n",
       "      <td>6.367797</td>\n",
       "      <td>low_spender</td>\n",
       "      <td>20.5</td>\n",
       "      <td>non_frequent_customer</td>\n",
       "    </tr>\n",
       "  </tbody>\n",
       "</table>\n",
       "<p>5 rows × 25 columns</p>\n",
       "</div>"
      ],
      "text/plain": [
       "   order_id  user_id eval_set  order_number  order_dow  order_hour_of_day  \\\n",
       "0   2539329        1    prior             1          2                  8   \n",
       "1   2539329        1    prior             1          2                  8   \n",
       "2   2539329        1    prior             1          2                  8   \n",
       "3   2539329        1    prior             1          2                  8   \n",
       "4   2539329        1    prior             1          2                  8   \n",
       "\n",
       "   days_since_prior_order   order_type  product_id  add_to_cart_order  ...  \\\n",
       "0                     NaN  First Order         196                  1  ...   \n",
       "1                     NaN  First Order       14084                  2  ...   \n",
       "2                     NaN  First Order       12427                  3  ...   \n",
       "3                     NaN  First Order       26088                  4  ...   \n",
       "4                     NaN  First Order       26405                  5  ...   \n",
       "\n",
       "     price_range_loc   bussiest_days  bussiest_hours  max_order  loyalty_flag  \\\n",
       "0  Mid-range product  Regularly busy  average orders         10  New customer   \n",
       "1  Mid-range product  Regularly busy  average orders         10  New customer   \n",
       "2  Low-range product  Regularly busy  average orders         10  New customer   \n",
       "3  Low-range product  Regularly busy  average orders         10  New customer   \n",
       "4  Low-range product  Regularly busy  average orders         10  New customer   \n",
       "\n",
       "  average price average_price spending_flag  median_days_since_order  \\\n",
       "0      6.367797      6.367797   low_spender                     20.5   \n",
       "1      6.367797      6.367797   low_spender                     20.5   \n",
       "2      6.367797      6.367797   low_spender                     20.5   \n",
       "3      6.367797      6.367797   low_spender                     20.5   \n",
       "4      6.367797      6.367797   low_spender                     20.5   \n",
       "\n",
       "         order_frequency  \n",
       "0  non_frequent_customer  \n",
       "1  non_frequent_customer  \n",
       "2  non_frequent_customer  \n",
       "3  non_frequent_customer  \n",
       "4  non_frequent_customer  \n",
       "\n",
       "[5 rows x 25 columns]"
      ]
     },
     "execution_count": 9,
     "metadata": {},
     "output_type": "execute_result"
    }
   ],
   "source": [
    "ords_prods_merge2.head()"
   ]
  },
  {
   "cell_type": "code",
   "execution_count": 10,
   "id": "5509e447-7896-48b8-955e-b6853be1e979",
   "metadata": {
    "scrolled": true
   },
   "outputs": [
    {
     "data": {
      "text/plain": [
       "<Axes: xlabel='order_dow'>"
      ]
     },
     "execution_count": 10,
     "metadata": {},
     "output_type": "execute_result"
    },
    {
     "data": {
      "image/png": "[encoded data removed]",
      "text/plain": [
       "<Figure size 640x480 with 1 Axes>"
      ]
     },
     "metadata": {},
     "output_type": "display_data"
    }
   ],
   "source": [
    "ords_prods_merge['order_dow'].value_counts().plot.bar()"
   ]
  },
  {
   "cell_type": "code",
   "execution_count": 11,
   "id": "369db79e-a4a1-4938-801c-f208f66bcc68",
   "metadata": {},
   "outputs": [
    {
     "data": {
      "image/png": "[encoded data removed]",
      "text/plain": [
       "<Figure size 640x480 with 1 Axes>"
      ]
     },
     "metadata": {},
     "output_type": "display_data"
    }
   ],
   "source": [
    "bar = ords_prods_merge['order_dow'].value_counts().plot.bar(color =['purple', 'red', 'pink', 'orange', 'yellow', 'green', 'blue'])"
   ]
  },
  {
   "cell_type": "code",
   "execution_count": 12,
   "id": "ee67c0bb-e004-4a8f-8869-e10ab9f51130",
   "metadata": {},
   "outputs": [],
   "source": [
    "bar.figure.savefig(r\"C:\\Users\\bodhi\\Downloads\\instacart basket analysis\\analysis\\visualisations\\bar_orders_dow.png\")"
   ]
  },
  {
   "cell_type": "code",
   "execution_count": 13,
   "id": "66596eef-a004-45a0-b102-f85178559d09",
   "metadata": {},
   "outputs": [
    {
     "data": {
      "text/plain": [
       "<Axes: ylabel='Frequency'>"
      ]
     },
     "execution_count": 13,
     "metadata": {},
     "output_type": "execute_result"
    },
    {
     "data": {
      "image/png": "[encoded data removed]",
      "text/plain": [
       "<Figure size 640x480 with 1 Axes>"
      ]
     },
     "metadata": {},
     "output_type": "display_data"
    }
   ],
   "source": [
    "ords_prods_merge['prices'].plot.hist(bins = 25)"
   ]
  },
  {
   "cell_type": "code",
   "execution_count": null,
   "id": "a597f1ca-c6d7-4846-aac0-71dde7c29e7f",
   "metadata": {},
   "outputs": [],
   "source": [
    "sns.scatterplot(x = 'prices', y = 'prices',data = ords_prods_merge)"
   ]
  },
  {
   "cell_type": "code",
   "execution_count": 15,
   "id": "583efb6a-1041-4186-914f-62ad51a37695",
   "metadata": {},
   "outputs": [
    {
     "data": {
      "text/html": [
       "<div>\n",
       "<style scoped>\n",
       "    .dataframe tbody tr th:only-of-type {\n",
       "        vertical-align: middle;\n",
       "    }\n",
       "\n",
       "    .dataframe tbody tr th {\n",
       "        vertical-align: top;\n",
       "    }\n",
       "\n",
       "    .dataframe thead th {\n",
       "        text-align: right;\n",
       "    }\n",
       "</style>\n",
       "<table border=\"1\" class=\"dataframe\">\n",
       "  <thead>\n",
       "    <tr style=\"text-align: right;\">\n",
       "      <th></th>\n",
       "      <th>user_id</th>\n",
       "      <th>First Name</th>\n",
       "      <th>Surname</th>\n",
       "      <th>Gender</th>\n",
       "      <th>State</th>\n",
       "      <th>Age</th>\n",
       "      <th>date_joined</th>\n",
       "      <th>fam_status</th>\n",
       "      <th>income</th>\n",
       "      <th>order_id</th>\n",
       "      <th>...</th>\n",
       "      <th>department_id</th>\n",
       "      <th>match</th>\n",
       "      <th>price_range_loc</th>\n",
       "      <th>bussiest_days</th>\n",
       "      <th>bussiest_hours</th>\n",
       "      <th>max_order</th>\n",
       "      <th>loyalty_flag</th>\n",
       "      <th>spending_flag</th>\n",
       "      <th>order_frequency</th>\n",
       "      <th>prices</th>\n",
       "    </tr>\n",
       "  </thead>\n",
       "  <tbody>\n",
       "    <tr>\n",
       "      <th>1576</th>\n",
       "      <td>516</td>\n",
       "      <td>Peter</td>\n",
       "      <td>Hunt</td>\n",
       "      <td>Male</td>\n",
       "      <td>Colorado</td>\n",
       "      <td>51</td>\n",
       "      <td>1/1/2017</td>\n",
       "      <td>married</td>\n",
       "      <td>146559</td>\n",
       "      <td>2082314</td>\n",
       "      <td>...</td>\n",
       "      <td>4</td>\n",
       "      <td>both</td>\n",
       "      <td>Mid-range product</td>\n",
       "      <td>Least busy</td>\n",
       "      <td>average orders</td>\n",
       "      <td>93</td>\n",
       "      <td>Loyal customer</td>\n",
       "      <td>low_spender</td>\n",
       "      <td>frequent_customer</td>\n",
       "      <td>14900.0</td>\n",
       "    </tr>\n",
       "    <tr>\n",
       "      <th>1638</th>\n",
       "      <td>516</td>\n",
       "      <td>Peter</td>\n",
       "      <td>Hunt</td>\n",
       "      <td>Male</td>\n",
       "      <td>Colorado</td>\n",
       "      <td>51</td>\n",
       "      <td>1/1/2017</td>\n",
       "      <td>married</td>\n",
       "      <td>146559</td>\n",
       "      <td>750648</td>\n",
       "      <td>...</td>\n",
       "      <td>13</td>\n",
       "      <td>both</td>\n",
       "      <td>Mid-range product</td>\n",
       "      <td>Regularly busy</td>\n",
       "      <td>average orders</td>\n",
       "      <td>93</td>\n",
       "      <td>Loyal customer</td>\n",
       "      <td>low_spender</td>\n",
       "      <td>frequent_customer</td>\n",
       "      <td>14900.0</td>\n",
       "    </tr>\n",
       "    <tr>\n",
       "      <th>16522</th>\n",
       "      <td>63697</td>\n",
       "      <td>Emily</td>\n",
       "      <td>Mejia</td>\n",
       "      <td>Female</td>\n",
       "      <td>West Virginia</td>\n",
       "      <td>22</td>\n",
       "      <td>1/1/2017</td>\n",
       "      <td>married</td>\n",
       "      <td>68214</td>\n",
       "      <td>950426</td>\n",
       "      <td>...</td>\n",
       "      <td>14</td>\n",
       "      <td>both</td>\n",
       "      <td>Low-range product</td>\n",
       "      <td>Regularly busy</td>\n",
       "      <td>average orders</td>\n",
       "      <td>38</td>\n",
       "      <td>Regular customer</td>\n",
       "      <td>low_spender</td>\n",
       "      <td>frequent_customer</td>\n",
       "      <td>14900.0</td>\n",
       "    </tr>\n",
       "    <tr>\n",
       "      <th>16528</th>\n",
       "      <td>63697</td>\n",
       "      <td>Emily</td>\n",
       "      <td>Mejia</td>\n",
       "      <td>Female</td>\n",
       "      <td>West Virginia</td>\n",
       "      <td>22</td>\n",
       "      <td>1/1/2017</td>\n",
       "      <td>married</td>\n",
       "      <td>68214</td>\n",
       "      <td>950426</td>\n",
       "      <td>...</td>\n",
       "      <td>19</td>\n",
       "      <td>both</td>\n",
       "      <td>Low-range product</td>\n",
       "      <td>Regularly busy</td>\n",
       "      <td>average orders</td>\n",
       "      <td>38</td>\n",
       "      <td>Regular customer</td>\n",
       "      <td>low_spender</td>\n",
       "      <td>frequent_customer</td>\n",
       "      <td>14900.0</td>\n",
       "    </tr>\n",
       "    <tr>\n",
       "      <th>53672</th>\n",
       "      <td>117284</td>\n",
       "      <td>Albert</td>\n",
       "      <td>Hancock</td>\n",
       "      <td>Male</td>\n",
       "      <td>Michigan</td>\n",
       "      <td>39</td>\n",
       "      <td>1/3/2017</td>\n",
       "      <td>married</td>\n",
       "      <td>44555</td>\n",
       "      <td>47167</td>\n",
       "      <td>...</td>\n",
       "      <td>20</td>\n",
       "      <td>both</td>\n",
       "      <td>Mid-range product</td>\n",
       "      <td>Busiest day</td>\n",
       "      <td>average orders</td>\n",
       "      <td>78</td>\n",
       "      <td>Loyal customer</td>\n",
       "      <td>low_spender</td>\n",
       "      <td>frequent_customer</td>\n",
       "      <td>14900.0</td>\n",
       "    </tr>\n",
       "    <tr>\n",
       "      <th>...</th>\n",
       "      <td>...</td>\n",
       "      <td>...</td>\n",
       "      <td>...</td>\n",
       "      <td>...</td>\n",
       "      <td>...</td>\n",
       "      <td>...</td>\n",
       "      <td>...</td>\n",
       "      <td>...</td>\n",
       "      <td>...</td>\n",
       "      <td>...</td>\n",
       "      <td>...</td>\n",
       "      <td>...</td>\n",
       "      <td>...</td>\n",
       "      <td>...</td>\n",
       "      <td>...</td>\n",
       "      <td>...</td>\n",
       "      <td>...</td>\n",
       "      <td>...</td>\n",
       "      <td>...</td>\n",
       "      <td>...</td>\n",
       "      <td>...</td>\n",
       "    </tr>\n",
       "    <tr>\n",
       "      <th>32320511</th>\n",
       "      <td>25283</td>\n",
       "      <td>Kenneth</td>\n",
       "      <td>Corona</td>\n",
       "      <td>Male</td>\n",
       "      <td>Missouri</td>\n",
       "      <td>65</td>\n",
       "      <td>3/29/2020</td>\n",
       "      <td>married</td>\n",
       "      <td>38275</td>\n",
       "      <td>2064439</td>\n",
       "      <td>...</td>\n",
       "      <td>20</td>\n",
       "      <td>both</td>\n",
       "      <td>Mid-range product</td>\n",
       "      <td>Regularly busy</td>\n",
       "      <td>average orders</td>\n",
       "      <td>24</td>\n",
       "      <td>Regular customer</td>\n",
       "      <td>low_spender</td>\n",
       "      <td>regular_customer</td>\n",
       "      <td>14900.0</td>\n",
       "    </tr>\n",
       "    <tr>\n",
       "      <th>32347717</th>\n",
       "      <td>68610</td>\n",
       "      <td>Donna</td>\n",
       "      <td>Reyna</td>\n",
       "      <td>Female</td>\n",
       "      <td>Indiana</td>\n",
       "      <td>81</td>\n",
       "      <td>3/30/2020</td>\n",
       "      <td>divorced/widowed</td>\n",
       "      <td>78976</td>\n",
       "      <td>899057</td>\n",
       "      <td>...</td>\n",
       "      <td>7</td>\n",
       "      <td>both</td>\n",
       "      <td>Mid-range product</td>\n",
       "      <td>Busiest day</td>\n",
       "      <td>most orders</td>\n",
       "      <td>99</td>\n",
       "      <td>Loyal customer</td>\n",
       "      <td>low_spender</td>\n",
       "      <td>frequent_customer</td>\n",
       "      <td>14900.0</td>\n",
       "    </tr>\n",
       "    <tr>\n",
       "      <th>32347727</th>\n",
       "      <td>68610</td>\n",
       "      <td>Donna</td>\n",
       "      <td>Reyna</td>\n",
       "      <td>Female</td>\n",
       "      <td>Indiana</td>\n",
       "      <td>81</td>\n",
       "      <td>3/30/2020</td>\n",
       "      <td>divorced/widowed</td>\n",
       "      <td>78976</td>\n",
       "      <td>1398320</td>\n",
       "      <td>...</td>\n",
       "      <td>16</td>\n",
       "      <td>both</td>\n",
       "      <td>Mid-range product</td>\n",
       "      <td>Regularly busy</td>\n",
       "      <td>average orders</td>\n",
       "      <td>99</td>\n",
       "      <td>Loyal customer</td>\n",
       "      <td>low_spender</td>\n",
       "      <td>frequent_customer</td>\n",
       "      <td>14900.0</td>\n",
       "    </tr>\n",
       "    <tr>\n",
       "      <th>32380527</th>\n",
       "      <td>19729</td>\n",
       "      <td>Maria</td>\n",
       "      <td>Frye</td>\n",
       "      <td>Female</td>\n",
       "      <td>Tennessee</td>\n",
       "      <td>52</td>\n",
       "      <td>4/1/2020</td>\n",
       "      <td>single</td>\n",
       "      <td>33954</td>\n",
       "      <td>3178939</td>\n",
       "      <td>...</td>\n",
       "      <td>16</td>\n",
       "      <td>both</td>\n",
       "      <td>Mid-range product</td>\n",
       "      <td>Least busy</td>\n",
       "      <td>average orders</td>\n",
       "      <td>4</td>\n",
       "      <td>New customer</td>\n",
       "      <td>low_spender</td>\n",
       "      <td>frequent_customer</td>\n",
       "      <td>14900.0</td>\n",
       "    </tr>\n",
       "    <tr>\n",
       "      <th>32380551</th>\n",
       "      <td>23795</td>\n",
       "      <td>Thomas</td>\n",
       "      <td>Howard</td>\n",
       "      <td>Male</td>\n",
       "      <td>North Dakota</td>\n",
       "      <td>64</td>\n",
       "      <td>4/1/2020</td>\n",
       "      <td>married</td>\n",
       "      <td>119348</td>\n",
       "      <td>3120727</td>\n",
       "      <td>...</td>\n",
       "      <td>4</td>\n",
       "      <td>both</td>\n",
       "      <td>Low-range product</td>\n",
       "      <td>Regularly busy</td>\n",
       "      <td>average orders</td>\n",
       "      <td>44</td>\n",
       "      <td>Loyal customer</td>\n",
       "      <td>low_spender</td>\n",
       "      <td>frequent_customer</td>\n",
       "      <td>14900.0</td>\n",
       "    </tr>\n",
       "  </tbody>\n",
       "</table>\n",
       "<p>5127 rows × 30 columns</p>\n",
       "</div>"
      ],
      "text/plain": [
       "         user_id First Name  Surname  Gender          State  Age date_joined  \\\n",
       "1576         516      Peter     Hunt    Male       Colorado   51    1/1/2017   \n",
       "1638         516      Peter     Hunt    Male       Colorado   51    1/1/2017   \n",
       "16522      63697      Emily    Mejia  Female  West Virginia   22    1/1/2017   \n",
       "16528      63697      Emily    Mejia  Female  West Virginia   22    1/1/2017   \n",
       "53672     117284     Albert  Hancock    Male       Michigan   39    1/3/2017   \n",
       "...          ...        ...      ...     ...            ...  ...         ...   \n",
       "32320511   25283    Kenneth   Corona    Male       Missouri   65   3/29/2020   \n",
       "32347717   68610      Donna    Reyna  Female        Indiana   81   3/30/2020   \n",
       "32347727   68610      Donna    Reyna  Female        Indiana   81   3/30/2020   \n",
       "32380527   19729      Maria     Frye  Female      Tennessee   52    4/1/2020   \n",
       "32380551   23795     Thomas   Howard    Male   North Dakota   64    4/1/2020   \n",
       "\n",
       "                fam_status  income  order_id  ... department_id  match  \\\n",
       "1576               married  146559   2082314  ...             4   both   \n",
       "1638               married  146559    750648  ...            13   both   \n",
       "16522              married   68214    950426  ...            14   both   \n",
       "16528              married   68214    950426  ...            19   both   \n",
       "53672              married   44555     47167  ...            20   both   \n",
       "...                    ...     ...       ...  ...           ...    ...   \n",
       "32320511           married   38275   2064439  ...            20   both   \n",
       "32347717  divorced/widowed   78976    899057  ...             7   both   \n",
       "32347727  divorced/widowed   78976   1398320  ...            16   both   \n",
       "32380527            single   33954   3178939  ...            16   both   \n",
       "32380551           married  119348   3120727  ...             4   both   \n",
       "\n",
       "            price_range_loc   bussiest_days  bussiest_hours max_order  \\\n",
       "1576      Mid-range product      Least busy  average orders        93   \n",
       "1638      Mid-range product  Regularly busy  average orders        93   \n",
       "16522     Low-range product  Regularly busy  average orders        38   \n",
       "16528     Low-range product  Regularly busy  average orders        38   \n",
       "53672     Mid-range product     Busiest day  average orders        78   \n",
       "...                     ...             ...             ...       ...   \n",
       "32320511  Mid-range product  Regularly busy  average orders        24   \n",
       "32347717  Mid-range product     Busiest day     most orders        99   \n",
       "32347727  Mid-range product  Regularly busy  average orders        99   \n",
       "32380527  Mid-range product      Least busy  average orders         4   \n",
       "32380551  Low-range product  Regularly busy  average orders        44   \n",
       "\n",
       "              loyalty_flag  spending_flag    order_frequency   prices  \n",
       "1576        Loyal customer    low_spender  frequent_customer  14900.0  \n",
       "1638        Loyal customer    low_spender  frequent_customer  14900.0  \n",
       "16522     Regular customer    low_spender  frequent_customer  14900.0  \n",
       "16528     Regular customer    low_spender  frequent_customer  14900.0  \n",
       "53672       Loyal customer    low_spender  frequent_customer  14900.0  \n",
       "...                    ...            ...                ...      ...  \n",
       "32320511  Regular customer    low_spender   regular_customer  14900.0  \n",
       "32347717    Loyal customer    low_spender  frequent_customer  14900.0  \n",
       "32347727    Loyal customer    low_spender  frequent_customer  14900.0  \n",
       "32380527      New customer    low_spender  frequent_customer  14900.0  \n",
       "32380551    Loyal customer    low_spender  frequent_customer  14900.0  \n",
       "\n",
       "[5127 rows x 30 columns]"
      ]
     },
     "execution_count": 15,
     "metadata": {},
     "output_type": "execute_result"
    }
   ],
   "source": [
    "ords_prods_merge.loc[ords_prods_merge['prices'] > 100]"
   ]
  },
  {
   "cell_type": "code",
   "execution_count": 16,
   "id": "bc1a64d0-cfda-48f0-9972-6b24132b0e4b",
   "metadata": {},
   "outputs": [],
   "source": [
    "ords_prods_merge.loc[ords_prods_merge['prices'] >100, 'prices'] = np.nan"
   ]
  },
  {
   "cell_type": "code",
   "execution_count": 17,
   "id": "5bc27ba5-9b2f-4aa8-8fdf-00080608d57a",
   "metadata": {},
   "outputs": [
    {
     "data": {
      "text/plain": [
       "25.0"
      ]
     },
     "execution_count": 17,
     "metadata": {},
     "output_type": "execute_result"
    }
   ],
   "source": [
    "ords_prods_merge['prices'].max()"
   ]
  },
  {
   "cell_type": "code",
   "execution_count": 18,
   "id": "ef3a2ab3-85cf-455c-ab6e-07c6528c18c4",
   "metadata": {},
   "outputs": [
    {
     "data": {
      "image/png": "[encoded data removed]",
      "text/plain": [
       "<Figure size 640x480 with 1 Axes>"
      ]
     },
     "metadata": {},
     "output_type": "display_data"
    }
   ],
   "source": [
    "hist = ords_prods_merge['prices'].plot.hist(bins = 25)"
   ]
  },
  {
   "cell_type": "code",
   "execution_count": 19,
   "id": "e08f6107-57ff-4614-b453-23252278e985",
   "metadata": {},
   "outputs": [],
   "source": [
    "hist.figure.savefig(r\"C:\\Users\\bodhi\\Downloads\\instacart basket analysis\\analysis\\visualisations\\hist_prices.png\")"
   ]
  },
  {
   "cell_type": "code",
   "execution_count": 20,
   "id": "833579f9-fb6a-4a49-89d4-9828928b2486",
   "metadata": {},
   "outputs": [],
   "source": [
    "np.random.seed(4)\n",
    "dev = np.random.rand(len(ords_prods_merge)) <= 0.7"
   ]
  },
  {
   "cell_type": "code",
   "execution_count": 21,
   "id": "c07320e6-ebf7-48be-b0b6-d41be97f4ac3",
   "metadata": {},
   "outputs": [],
   "source": [
    "big = ords_prods_merge[dev]\n",
    "small = ords_prods_merge[~dev]\n"
   ]
  },
  {
   "cell_type": "code",
   "execution_count": 22,
   "id": "946e3403-d098-4961-88d8-cd0c401cd866",
   "metadata": {},
   "outputs": [
    {
     "data": {
      "text/plain": [
       "32404859"
      ]
     },
     "execution_count": 22,
     "metadata": {},
     "output_type": "execute_result"
    }
   ],
   "source": [
    "len(ords_prods_merge)"
   ]
  },
  {
   "cell_type": "code",
   "execution_count": 23,
   "id": "089392b2-f981-4396-b818-4394c7a3dd89",
   "metadata": {},
   "outputs": [
    {
     "data": {
      "text/plain": [
       "32404859"
      ]
     },
     "execution_count": 23,
     "metadata": {},
     "output_type": "execute_result"
    }
   ],
   "source": [
    "len(big) + len(small)"
   ]
  },
  {
   "cell_type": "code",
   "execution_count": 24,
   "id": "1166f115-ac3e-44a4-bcf1-d318eab0ec7b",
   "metadata": {},
   "outputs": [],
   "source": [
    "df_2 = small[['order_dow','prices']]"
   ]
  },
  {
   "cell_type": "code",
   "execution_count": 25,
   "id": "18f1679c-010e-4280-a133-9153505c569a",
   "metadata": {},
   "outputs": [
    {
     "data": {
      "image/png": "[encoded data removed]",
      "text/plain": [
       "<Figure size 640x480 with 1 Axes>"
      ]
     },
     "metadata": {},
     "output_type": "display_data"
    }
   ],
   "source": [
    "line = sns.lineplot(data = df_2, x = 'order_dow',y = 'prices')"
   ]
  },
  {
   "cell_type": "code",
   "execution_count": 26,
   "id": "69f94621-e089-4050-9512-fb4eb30138f7",
   "metadata": {},
   "outputs": [],
   "source": [
    "line.figure.savefig(r\"C:\\Users\\bodhi\\Downloads\\instacart basket analysis\\analysis\\visualisations\\line_prices.png\")"
   ]
  },
  {
   "cell_type": "code",
   "execution_count": 27,
   "id": "98ea9855-357f-4304-8855-2a3dac8cc88a",
   "metadata": {},
   "outputs": [
    {
     "data": {
      "image/png": "[encoded data removed]",
      "text/plain": [
       "<Figure size 640x480 with 1 Axes>"
      ]
     },
     "metadata": {},
     "output_type": "display_data"
    }
   ],
   "source": [
    "hist2 = ords_prods_merge['order_hour_of_day'].plot.hist(bins = 24)"
   ]
  },
  {
   "cell_type": "markdown",
   "id": "2c48e06d-ce09-4ca7-ba9c-7643e80e3ff1",
   "metadata": {},
   "source": [
    "the histogram shows that most orders occur between 9am and 4pm"
   ]
  },
  {
   "cell_type": "code",
   "execution_count": 28,
   "id": "9841131d-47ae-4bdd-b58c-4bcb56e085fb",
   "metadata": {},
   "outputs": [],
   "source": [
    "hist2.figure.savefig(r\"C:\\Users\\bodhi\\Downloads\\instacart basket analysis\\analysis\\visualisations\\hist_orders.png\")"
   ]
  },
  {
   "cell_type": "code",
   "execution_count": 29,
   "id": "62bd792c-664f-4eb4-8cc0-e45134e98174",
   "metadata": {},
   "outputs": [
    {
     "data": {
      "image/png": "[encoded data removed]",
      "text/plain": [
       "<Figure size 640x480 with 1 Axes>"
      ]
     },
     "metadata": {},
     "output_type": "display_data"
    }
   ],
   "source": [
    "bar2 = ords_prods_merge['loyalty_flag'].value_counts().plot.bar(color =['blue', 'orange', 'green'])"
   ]
  },
  {
   "cell_type": "code",
   "execution_count": 30,
   "id": "c4f12fbf-aebe-4d9b-9269-cfbe544fe894",
   "metadata": {},
   "outputs": [],
   "source": [
    "bar2.figure.savefig(r\"C:\\Users\\bodhi\\Downloads\\instacart basket analysis\\analysis\\visualisations\\bar_loyalty.png\")"
   ]
  },
  {
   "cell_type": "code",
   "execution_count": null,
   "id": "1590f421-7529-4e23-873b-713a7678c912",
   "metadata": {},
   "outputs": [],
   "source": [
    "line2 = sns.lineplot(data = ords_prods_merge, x = 'order_hour_of_day',y = 'prices')"
   ]
  },
  {
   "cell_type": "code",
   "execution_count": null,
   "id": "dbb3b1ef-96e0-4bab-a7ce-3c6e50abefe6",
   "metadata": {},
   "outputs": [],
   "source": [
    "line2.figure.savefig(r\"C:\\Users\\bodhi\\Downloads\\instacart basket analysis\\analysis\\visualisations\\line_prices2.png\")"
   ]
  },
  {
   "cell_type": "code",
   "execution_count": null,
   "id": "501a4cd8-3dd6-4a5d-b710-b04f4d4a3811",
   "metadata": {},
   "outputs": [],
   "source": [
    "sample_size = 100\n",
    "sampled_data = ords_prods_merge.sample(n=sample_size, random_state=42)\n",
    "scatter = sns.scatterplot(x='Age', y='income', data=sampled_data)"
   ]
  },
  {
   "cell_type": "markdown",
   "id": "3cb5b559-10b5-4fb7-9ea3-0ecbad304143",
   "metadata": {},
   "source": [
    "generally age increased means higher income"
   ]
  },
  {
   "cell_type": "code",
   "execution_count": null,
   "id": "5fb7d9cc-3c5b-4788-a677-2156da8ffb1e",
   "metadata": {},
   "outputs": [],
   "source": [
    "scatter.figure.savefig(r\"C:\\Users\\bodhi\\Downloads\\instacart basket analysis\\analysis\\visualisations\\age_income_scatter.png\")"
   ]
  },
  {
   "cell_type": "code",
   "execution_count": null,
   "id": "bc9cbe5e-1c67-4d16-bfdb-e9069e6480b6",
   "metadata": {},
   "outputs": [],
   "source": []
  }
 ],
 "metadata": {
  "kernelspec": {
   "display_name": "Python [conda env:base] *",
   "language": "python",
   "name": "conda-base-py"
  },
  "language_info": {
   "codemirror_mode": {
    "name": "ipython",
    "version": 3
   },
   "file_extension": ".py",
   "mimetype": "text/x-python",
   "name": "python",
   "nbconvert_exporter": "python",
   "pygments_lexer": "ipython3",
   "version": "3.13.5"
  }
 },
 "nbformat": 4,
 "nbformat_minor": 5
}
