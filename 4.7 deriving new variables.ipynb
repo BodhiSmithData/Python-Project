{
 "cells": [
  {
   "cell_type": "markdown",
   "id": "8127c481-073e-424b-9238-ba79da419a3a",
   "metadata": {},
   "source": [
    "importing"
   ]
  },
  {
   "cell_type": "code",
   "execution_count": 1,
   "id": "08b8d2a0-e490-45d0-8ebc-c32718d50f6a",
   "metadata": {},
   "outputs": [],
   "source": [
    "# Import libraries\n",
    "\n",
    "import pandas as pd\n",
    "import numpy as np\n",
    "import os"
   ]
  },
  {
   "cell_type": "code",
   "execution_count": 2,
   "id": "f42cb0ba-f297-42f8-b29b-aeabbb1f2445",
   "metadata": {},
   "outputs": [],
   "source": [
    "ords_prods_merge = pd.read_pickle(r\"C:\\Users\\bodhi\\Downloads\\instacart basket analysis\\data\\prepared data\\ords_prods_merge.pkl\")"
   ]
  },
  {
   "cell_type": "markdown",
   "id": "0fd8c120-8aa9-4381-81f8-c7405c32cf7c",
   "metadata": {},
   "source": [
    "task"
   ]
  },
  {
   "cell_type": "code",
   "execution_count": 10,
   "id": "99985fc8-4ae3-4bdc-bf71-c86deb461fa8",
   "metadata": {},
   "outputs": [],
   "source": [
    "#creating a subset to work with\n",
    "df = ords_prods_merge.iloc[:1000000].copy()\n"
   ]
  },
  {
   "cell_type": "code",
   "execution_count": 4,
   "id": "293ba0db-45bc-40ac-95cc-95c34a1b9f88",
   "metadata": {},
   "outputs": [],
   "source": [
    "#price range function\n",
    "def price_label(row):\n",
    "\n",
    "  if row['prices'] <= 5:\n",
    "    return 'Low-range product'\n",
    "  elif (row['prices'] > 5) and (row['prices'] <= 15):\n",
    "    return 'Mid-range product'\n",
    "  elif row['prices'] > 15:\n",
    "    return 'High range'\n",
    "  else: return 'Not enough data'"
   ]
  },
  {
   "cell_type": "code",
   "execution_count": 11,
   "id": "78dcb669-3d99-4c82-af6c-8d0d3698b86c",
   "metadata": {},
   "outputs": [],
   "source": [
    "df['price_range'] = df.apply(price_label, axis=1)"
   ]
  },
  {
   "cell_type": "code",
   "execution_count": 13,
   "id": "1804fb0b-7153-4ed5-b4b7-c1daca9fffa5",
   "metadata": {},
   "outputs": [],
   "source": [
    "#loc method on the entire dataframe\n",
    "ords_prods_merge.loc[ords_prods_merge['prices'] > 15, 'price_range_loc'] = 'High-range product'"
   ]
  },
  {
   "cell_type": "code",
   "execution_count": 14,
   "id": "fbd0afe1-d905-426b-bd1f-79108aea1d49",
   "metadata": {},
   "outputs": [],
   "source": [
    "ords_prods_merge.loc[(ords_prods_merge['prices'] <= 15) & (ords_prods_merge['prices'] > 5), 'price_range_loc'] = 'Mid-range product' "
   ]
  },
  {
   "cell_type": "code",
   "execution_count": 15,
   "id": "dc263213-8d75-4ed9-8cf9-1f095873d0ce",
   "metadata": {},
   "outputs": [],
   "source": [
    "ords_prods_merge.loc[ords_prods_merge['prices'] <= 5, 'price_range_loc'] = 'Low-range product'"
   ]
  },
  {
   "cell_type": "code",
   "execution_count": 19,
   "id": "c4701399-4bb7-4bd7-a441-fb72b9bc4666",
   "metadata": {},
   "outputs": [],
   "source": [
    "#bussiest day column\n",
    "result = []\n",
    "\n",
    "for value in ords_prods_merge[\"order_dow\"]:\n",
    "  if value == 0:\n",
    "    result.append(\"Busiest day\")\n",
    "  elif value == 4:\n",
    "    result.append(\"Least busy\")\n",
    "  else:\n",
    "    result.append(\"Regularly busy\")"
   ]
  },
  {
   "cell_type": "code",
   "execution_count": 20,
   "id": "3a9f4a6c-e877-43eb-a1fb-8666a27d9c24",
   "metadata": {},
   "outputs": [],
   "source": [
    "ords_prods_merge['bussiest_day'] = result"
   ]
  },
  {
   "cell_type": "code",
   "execution_count": 30,
   "id": "9b07e0de-0a58-4419-b5b4-b22c7e4f2a10",
   "metadata": {},
   "outputs": [
    {
     "data": {
      "text/plain": [
       "bussiest_day\n",
       "Regularly busy    22416875\n",
       "Busiest day        6204182\n",
       "Least busy         3783802\n",
       "Name: count, dtype: int64"
      ]
     },
     "execution_count": 30,
     "metadata": {},
     "output_type": "execute_result"
    }
   ],
   "source": [
    "ords_prods_merge['bussiest_day'].value_counts(dropna = False)"
   ]
  },
  {
   "cell_type": "markdown",
   "id": "4059a766-10d8-427f-b56b-e98f3fde0b0e",
   "metadata": {},
   "source": [
    "task"
   ]
  },
  {
   "cell_type": "code",
   "execution_count": 34,
   "id": "37499e07-8f00-472f-bfa4-45b73fa752b9",
   "metadata": {},
   "outputs": [],
   "source": [
    "#bussiest days column\n",
    "x = []\n",
    "\n",
    "for value in ords_prods_merge[\"order_dow\"]:\n",
    "  if value == 0 or value == 1:\n",
    "    x.append(\"Busiest day\")\n",
    "  elif value == 4 or value == 3:\n",
    "    x.append(\"Least busy\")\n",
    "  else:\n",
    "    x.append(\"Regularly busy\")"
   ]
  },
  {
   "cell_type": "code",
   "execution_count": 35,
   "id": "a8920733-80db-4bd3-bff0-d9b397305225",
   "metadata": {},
   "outputs": [],
   "source": [
    "ords_prods_merge['bussiest_days'] = x"
   ]
  },
  {
   "cell_type": "code",
   "execution_count": 36,
   "id": "29683bc2-4d8d-4574-b096-6584583626a5",
   "metadata": {},
   "outputs": [
    {
     "data": {
      "text/plain": [
       "bussiest_days\n",
       "Regularly busy    12916111\n",
       "Busiest day       11864412\n",
       "Least busy         7624336\n",
       "Name: count, dtype: int64"
      ]
     },
     "execution_count": 36,
     "metadata": {},
     "output_type": "execute_result"
    }
   ],
   "source": [
    "ords_prods_merge['bussiest_days'].value_counts(dropna = False)"
   ]
  },
  {
   "cell_type": "code",
   "execution_count": 38,
   "id": "3374869b-cfe0-4edc-bb30-d4e7ff23cd7e",
   "metadata": {},
   "outputs": [
    {
     "data": {
      "text/plain": [
       "order_hour_of_day\n",
       "10    2761760\n",
       "11    2736140\n",
       "14    2689136\n",
       "15    2662144\n",
       "13    2660954\n",
       "12    2618532\n",
       "16    2535202\n",
       "9     2454203\n",
       "17    2087654\n",
       "8     1718118\n",
       "18    1636502\n",
       "19    1258305\n",
       "20     976156\n",
       "7      891054\n",
       "21     795637\n",
       "22     634225\n",
       "23     402316\n",
       "6      290493\n",
       "0      218769\n",
       "1      115700\n",
       "5       87961\n",
       "2       69375\n",
       "4       53242\n",
       "3       51281\n",
       "Name: count, dtype: int64"
      ]
     },
     "execution_count": 38,
     "metadata": {},
     "output_type": "execute_result"
    }
   ],
   "source": [
    "#order frquency column\n",
    "ords_prods_merge['order_hour_of_day'].value_counts(dropna = False)"
   ]
  },
  {
   "cell_type": "code",
   "execution_count": 39,
   "id": "536a35e3-0eaa-487a-a2ef-2e465ec8f827",
   "metadata": {},
   "outputs": [],
   "source": [
    "y = []\n",
    "\n",
    "for value in ords_prods_merge[\"order_hour_of_day\"]:\n",
    "  if value == 10 or value == 11 or value == 14:\n",
    "    y.append(\"most orders\")\n",
    "  elif value == 2 or value == 3 or value == 4:\n",
    "    y.append(\"fewest orders\")\n",
    "  else:\n",
    "    y.append(\"average orders\")"
   ]
  },
  {
   "cell_type": "code",
   "execution_count": 40,
   "id": "49a3f1f3-b39e-4c78-80fb-72738db862ec",
   "metadata": {},
   "outputs": [],
   "source": [
    "ords_prods_merge['bussiest_hours'] = y"
   ]
  },
  {
   "cell_type": "code",
   "execution_count": 41,
   "id": "34978dbc-54cb-4959-8141-026ce939a62e",
   "metadata": {},
   "outputs": [
    {
     "data": {
      "text/plain": [
       "bussiest_hours\n",
       "average orders    24043925\n",
       "most orders        8187036\n",
       "fewest orders       173898\n",
       "Name: count, dtype: int64"
      ]
     },
     "execution_count": 41,
     "metadata": {},
     "output_type": "execute_result"
    }
   ],
   "source": [
    "ords_prods_merge['bussiest_hours'].value_counts(dropna = False)"
   ]
  },
  {
   "cell_type": "code",
   "execution_count": 43,
   "id": "f890d181-1af8-481b-9813-d41caa3627f7",
   "metadata": {},
   "outputs": [],
   "source": [
    "final = ords_prods_merge.drop('bussiest_day', axis=1,)"
   ]
  },
  {
   "cell_type": "code",
   "execution_count": 44,
   "id": "5efb4f1f-b1d8-40fc-924b-d0417468de2c",
   "metadata": {},
   "outputs": [],
   "source": [
    "#exporting\n",
    "final.to_pickle(r\"C:\\Users\\bodhi\\Downloads\\instacart basket analysis\\data\\prepared data\\ords_prods_merge_2.pkl\")"
   ]
  },
  {
   "cell_type": "code",
   "execution_count": null,
   "id": "e3a6d6ac-d887-4d54-ae33-cc2065d9fff0",
   "metadata": {},
   "outputs": [],
   "source": []
  },
  {
   "cell_type": "code",
   "execution_count": null,
   "id": "c6a680e1-5514-422c-9f7a-b385ef0751cb",
   "metadata": {},
   "outputs": [],
   "source": []
  }
 ],
 "metadata": {
  "kernelspec": {
   "display_name": "Python [conda env:base] *",
   "language": "python",
   "name": "conda-base-py"
  },
  "language_info": {
   "codemirror_mode": {
    "name": "ipython",
    "version": 3
   },
   "file_extension": ".py",
   "mimetype": "text/x-python",
   "name": "python",
   "nbconvert_exporter": "python",
   "pygments_lexer": "ipython3",
   "version": "3.13.5"
  }
 },
 "nbformat": 4,
 "nbformat_minor": 5
}
