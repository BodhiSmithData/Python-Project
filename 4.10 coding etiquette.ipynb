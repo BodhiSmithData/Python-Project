{
 "cells": [
  {
   "cell_type": "markdown",
   "id": "f1fcfecf-ab40-4f89-b223-5c47fd565bc3",
   "metadata": {},
   "source": [
    "importing"
   ]
  },
  {
   "cell_type": "code",
   "execution_count": 1,
   "id": "f6d0219d-5d62-4c39-a9e7-fedcdbbfd289",
   "metadata": {},
   "outputs": [],
   "source": [
    "#importing \n",
    "import pandas as pd\n",
    "import numpy as np\n",
    "import os"
   ]
  },
  {
   "cell_type": "code",
   "execution_count": 2,
   "id": "91baa4a0-dee0-4c74-83c8-d8e9e27256fb",
   "metadata": {},
   "outputs": [],
   "source": [
    "ords = pd.read_pickle(r\"C:\\Users\\bodhi\\Downloads\\instacart basket analysis\\data\\prepared data\\ords_prods_merge_5.pkl\")"
   ]
  },
  {
   "cell_type": "markdown",
   "id": "3cee092e-32fd-460d-aa37-e47bafd8f7a2",
   "metadata": {},
   "source": [
    "task"
   ]
  },
  {
   "cell_type": "code",
   "execution_count": 25,
   "id": "4263d92d-03d5-435e-b53d-a065751577ad",
   "metadata": {},
   "outputs": [],
   "source": [
    "def state_to_region(row):\n",
    "    state = row['State']\n",
    "    \n",
    "    # Northeast states\n",
    "    if state in ('Maine', 'New Hampshire', 'Vermont', 'Massachusetts', 'Rhode Island', \n",
    "                'Connecticut', 'New York', 'Pennsylvania', 'New Jersey'):\n",
    "        return 'North East'\n",
    "    \n",
    "    # Midwest states\n",
    "    if state in ('Wisconsin', 'Michigan', 'Illinois', 'Indiana', 'Ohio', 'North Dakota',\n",
    "                'South Dakota', 'Nebraska', 'Kansas', 'Minnesota', 'Iowa', 'Missouri'):\n",
    "        return 'Midwest'\n",
    "    \n",
    "    # South states\n",
    "    if state in ('Deleware', 'Maryland', 'District of Columbia', 'Virginia', 'West Virginia',\n",
    "                'North Carolina', 'South Carolina', 'Georgia', 'Florida', 'Kentucky',\n",
    "                'Tennessee', 'Mississippi', 'Alabama', 'Oklahoma', 'Texas', 'Arkansas', 'Louisiana'):\n",
    "        return 'South'\n",
    "    \n",
    "    # West states\n",
    "    if state in ('Idaho', 'Montana', 'Wyoming', 'Nevada', 'Utah', 'Colorado', 'Arizona',\n",
    "                'New Mexico', 'Alaska', 'Washington', 'Oregon', 'California', 'Hawaii'):\n",
    "        return 'West'\n",
    "    \n",
    "    return 'Not enough data'"
   ]
  },
  {
   "cell_type": "code",
   "execution_count": 26,
   "id": "a8f37ef1-77c0-48aa-b1c2-6ebb229aba64",
   "metadata": {},
   "outputs": [],
   "source": [
    "ords['region'] = ords.apply(state_to_region, axis=1)"
   ]
  },
  {
   "cell_type": "code",
   "execution_count": 27,
   "id": "8d487b84-bc18-4da2-9c72-2fcf019b06d0",
   "metadata": {},
   "outputs": [],
   "source": [
    "crosstab = pd.crosstab(ords['region'], ords['spending_flag'], dropna = False)"
   ]
  },
  {
   "cell_type": "code",
   "execution_count": 28,
   "id": "b6762d54-3ef4-4728-8181-73a9145c7375",
   "metadata": {},
   "outputs": [
    {
     "data": {
      "text/html": [
       "<div>\n",
       "<style scoped>\n",
       "    .dataframe tbody tr th:only-of-type {\n",
       "        vertical-align: middle;\n",
       "    }\n",
       "\n",
       "    .dataframe tbody tr th {\n",
       "        vertical-align: top;\n",
       "    }\n",
       "\n",
       "    .dataframe thead th {\n",
       "        text-align: right;\n",
       "    }\n",
       "</style>\n",
       "<table border=\"1\" class=\"dataframe\">\n",
       "  <thead>\n",
       "    <tr style=\"text-align: right;\">\n",
       "      <th>spending_flag</th>\n",
       "      <th>high_spender</th>\n",
       "      <th>low_spender</th>\n",
       "    </tr>\n",
       "    <tr>\n",
       "      <th>region</th>\n",
       "      <th></th>\n",
       "      <th></th>\n",
       "    </tr>\n",
       "  </thead>\n",
       "  <tbody>\n",
       "    <tr>\n",
       "      <th>Midwest</th>\n",
       "      <td>155975</td>\n",
       "      <td>7441350</td>\n",
       "    </tr>\n",
       "    <tr>\n",
       "      <th>North East</th>\n",
       "      <td>108225</td>\n",
       "      <td>5614511</td>\n",
       "    </tr>\n",
       "    <tr>\n",
       "      <th>Not enough data</th>\n",
       "      <td>16600</td>\n",
       "      <td>620424</td>\n",
       "    </tr>\n",
       "    <tr>\n",
       "      <th>South</th>\n",
       "      <td>193091</td>\n",
       "      <td>9961770</td>\n",
       "    </tr>\n",
       "    <tr>\n",
       "      <th>West</th>\n",
       "      <td>160354</td>\n",
       "      <td>8132559</td>\n",
       "    </tr>\n",
       "  </tbody>\n",
       "</table>\n",
       "</div>"
      ],
      "text/plain": [
       "spending_flag    high_spender  low_spender\n",
       "region                                    \n",
       "Midwest                155975      7441350\n",
       "North East             108225      5614511\n",
       "Not enough data         16600       620424\n",
       "South                  193091      9961770\n",
       "West                   160354      8132559"
      ]
     },
     "execution_count": 28,
     "metadata": {},
     "output_type": "execute_result"
    }
   ],
   "source": [
    "crosstab"
   ]
  },
  {
   "cell_type": "markdown",
   "id": "be5aaa1f-592c-429b-9e41-e427e2d69b36",
   "metadata": {},
   "source": [
    "3. there doesnt seem to be much difference in spending habits accross regions"
   ]
  },
  {
   "cell_type": "code",
   "execution_count": 35,
   "id": "7de48396-b4e8-4de3-a081-9ca0c101b12b",
   "metadata": {},
   "outputs": [
    {
     "data": {
      "text/html": [
       "<div>\n",
       "<style scoped>\n",
       "    .dataframe tbody tr th:only-of-type {\n",
       "        vertical-align: middle;\n",
       "    }\n",
       "\n",
       "    .dataframe tbody tr th {\n",
       "        vertical-align: top;\n",
       "    }\n",
       "\n",
       "    .dataframe thead th {\n",
       "        text-align: right;\n",
       "    }\n",
       "</style>\n",
       "<table border=\"1\" class=\"dataframe\">\n",
       "  <thead>\n",
       "    <tr style=\"text-align: right;\">\n",
       "      <th></th>\n",
       "      <th>user_id</th>\n",
       "      <th>First Name</th>\n",
       "      <th>Surname</th>\n",
       "      <th>Gender</th>\n",
       "      <th>State</th>\n",
       "      <th>Age</th>\n",
       "      <th>date_joined</th>\n",
       "      <th>fam_status</th>\n",
       "      <th>income</th>\n",
       "      <th>order_id</th>\n",
       "      <th>...</th>\n",
       "      <th>price_range_loc</th>\n",
       "      <th>bussiest_days</th>\n",
       "      <th>bussiest_hours</th>\n",
       "      <th>max_order</th>\n",
       "      <th>loyalty_flag</th>\n",
       "      <th>spending_flag</th>\n",
       "      <th>order_frequency</th>\n",
       "      <th>region</th>\n",
       "      <th>low_activity_customer</th>\n",
       "      <th>customer_profile</th>\n",
       "    </tr>\n",
       "  </thead>\n",
       "  <tbody>\n",
       "    <tr>\n",
       "      <th>0</th>\n",
       "      <td>26711</td>\n",
       "      <td>Deborah</td>\n",
       "      <td>Esquivel</td>\n",
       "      <td>Female</td>\n",
       "      <td>Missouri</td>\n",
       "      <td>48</td>\n",
       "      <td>1/1/2017</td>\n",
       "      <td>married</td>\n",
       "      <td>165665</td>\n",
       "      <td>518967</td>\n",
       "      <td>...</td>\n",
       "      <td>Low-range product</td>\n",
       "      <td>Regularly busy</td>\n",
       "      <td>average orders</td>\n",
       "      <td>8</td>\n",
       "      <td>New customer</td>\n",
       "      <td>low_spender</td>\n",
       "      <td>regular_customer</td>\n",
       "      <td>Midwest</td>\n",
       "      <td>No</td>\n",
       "      <td>older_married</td>\n",
       "    </tr>\n",
       "    <tr>\n",
       "      <th>1</th>\n",
       "      <td>26711</td>\n",
       "      <td>Deborah</td>\n",
       "      <td>Esquivel</td>\n",
       "      <td>Female</td>\n",
       "      <td>Missouri</td>\n",
       "      <td>48</td>\n",
       "      <td>1/1/2017</td>\n",
       "      <td>married</td>\n",
       "      <td>165665</td>\n",
       "      <td>423547</td>\n",
       "      <td>...</td>\n",
       "      <td>Mid-range product</td>\n",
       "      <td>Regularly busy</td>\n",
       "      <td>average orders</td>\n",
       "      <td>8</td>\n",
       "      <td>New customer</td>\n",
       "      <td>low_spender</td>\n",
       "      <td>regular_customer</td>\n",
       "      <td>Midwest</td>\n",
       "      <td>No</td>\n",
       "      <td>older_married</td>\n",
       "    </tr>\n",
       "    <tr>\n",
       "      <th>2</th>\n",
       "      <td>26711</td>\n",
       "      <td>Deborah</td>\n",
       "      <td>Esquivel</td>\n",
       "      <td>Female</td>\n",
       "      <td>Missouri</td>\n",
       "      <td>48</td>\n",
       "      <td>1/1/2017</td>\n",
       "      <td>married</td>\n",
       "      <td>165665</td>\n",
       "      <td>2524893</td>\n",
       "      <td>...</td>\n",
       "      <td>Mid-range product</td>\n",
       "      <td>Least busy</td>\n",
       "      <td>most orders</td>\n",
       "      <td>8</td>\n",
       "      <td>New customer</td>\n",
       "      <td>low_spender</td>\n",
       "      <td>regular_customer</td>\n",
       "      <td>Midwest</td>\n",
       "      <td>No</td>\n",
       "      <td>older_married</td>\n",
       "    </tr>\n",
       "    <tr>\n",
       "      <th>3</th>\n",
       "      <td>26711</td>\n",
       "      <td>Deborah</td>\n",
       "      <td>Esquivel</td>\n",
       "      <td>Female</td>\n",
       "      <td>Missouri</td>\n",
       "      <td>48</td>\n",
       "      <td>1/1/2017</td>\n",
       "      <td>married</td>\n",
       "      <td>165665</td>\n",
       "      <td>2524893</td>\n",
       "      <td>...</td>\n",
       "      <td>Low-range product</td>\n",
       "      <td>Least busy</td>\n",
       "      <td>most orders</td>\n",
       "      <td>8</td>\n",
       "      <td>New customer</td>\n",
       "      <td>low_spender</td>\n",
       "      <td>regular_customer</td>\n",
       "      <td>Midwest</td>\n",
       "      <td>No</td>\n",
       "      <td>older_married</td>\n",
       "    </tr>\n",
       "    <tr>\n",
       "      <th>4</th>\n",
       "      <td>26711</td>\n",
       "      <td>Deborah</td>\n",
       "      <td>Esquivel</td>\n",
       "      <td>Female</td>\n",
       "      <td>Missouri</td>\n",
       "      <td>48</td>\n",
       "      <td>1/1/2017</td>\n",
       "      <td>married</td>\n",
       "      <td>165665</td>\n",
       "      <td>2524893</td>\n",
       "      <td>...</td>\n",
       "      <td>Mid-range product</td>\n",
       "      <td>Least busy</td>\n",
       "      <td>most orders</td>\n",
       "      <td>8</td>\n",
       "      <td>New customer</td>\n",
       "      <td>low_spender</td>\n",
       "      <td>regular_customer</td>\n",
       "      <td>Midwest</td>\n",
       "      <td>No</td>\n",
       "      <td>older_married</td>\n",
       "    </tr>\n",
       "  </tbody>\n",
       "</table>\n",
       "<p>5 rows × 32 columns</p>\n",
       "</div>"
      ],
      "text/plain": [
       "  user_id First Name   Surname  Gender     State  Age date_joined fam_status  \\\n",
       "0   26711    Deborah  Esquivel  Female  Missouri   48    1/1/2017    married   \n",
       "1   26711    Deborah  Esquivel  Female  Missouri   48    1/1/2017    married   \n",
       "2   26711    Deborah  Esquivel  Female  Missouri   48    1/1/2017    married   \n",
       "3   26711    Deborah  Esquivel  Female  Missouri   48    1/1/2017    married   \n",
       "4   26711    Deborah  Esquivel  Female  Missouri   48    1/1/2017    married   \n",
       "\n",
       "   income  order_id  ...    price_range_loc   bussiest_days  bussiest_hours  \\\n",
       "0  165665    518967  ...  Low-range product  Regularly busy  average orders   \n",
       "1  165665    423547  ...  Mid-range product  Regularly busy  average orders   \n",
       "2  165665   2524893  ...  Mid-range product      Least busy     most orders   \n",
       "3  165665   2524893  ...  Low-range product      Least busy     most orders   \n",
       "4  165665   2524893  ...  Mid-range product      Least busy     most orders   \n",
       "\n",
       "   max_order  loyalty_flag spending_flag   order_frequency   region  \\\n",
       "0          8  New customer   low_spender  regular_customer  Midwest   \n",
       "1          8  New customer   low_spender  regular_customer  Midwest   \n",
       "2          8  New customer   low_spender  regular_customer  Midwest   \n",
       "3          8  New customer   low_spender  regular_customer  Midwest   \n",
       "4          8  New customer   low_spender  regular_customer  Midwest   \n",
       "\n",
       "  low_activity_customer  customer_profile  \n",
       "0                    No     older_married  \n",
       "1                    No     older_married  \n",
       "2                    No     older_married  \n",
       "3                    No     older_married  \n",
       "4                    No     older_married  \n",
       "\n",
       "[5 rows x 32 columns]"
      ]
     },
     "execution_count": 35,
     "metadata": {},
     "output_type": "execute_result"
    }
   ],
   "source": [
    "ords.head()"
   ]
  },
  {
   "cell_type": "code",
   "execution_count": 30,
   "id": "08f5410c-5ca7-487a-bc03-14ea792f01ec",
   "metadata": {},
   "outputs": [
    {
     "data": {
      "text/plain": [
       "user_id                     object\n",
       "First Name                category\n",
       "Surname                   category\n",
       "Gender                    category\n",
       "State                     category\n",
       "Age                          int64\n",
       "date_joined               category\n",
       "fam_status                category\n",
       "income                       int64\n",
       "order_id                     int32\n",
       "eval_set                  category\n",
       "order_number                  int8\n",
       "order_dow                     int8\n",
       "order_hour_of_day             int8\n",
       "days_since_prior_order     float16\n",
       "order_type                category\n",
       "product_id                   int32\n",
       "add_to_cart_order            int32\n",
       "product_name              category\n",
       "aisle_id                     int64\n",
       "department_id                int64\n",
       "match                     category\n",
       "price_range_loc           category\n",
       "bussiest_days             category\n",
       "bussiest_hours            category\n",
       "max_order                     int8\n",
       "loyalty_flag              category\n",
       "spending_flag             category\n",
       "order_frequency           category\n",
       "region                      object\n",
       "dtype: object"
      ]
     },
     "execution_count": 30,
     "metadata": {},
     "output_type": "execute_result"
    }
   ],
   "source": [
    "ords.dtypes"
   ]
  },
  {
   "cell_type": "code",
   "execution_count": 31,
   "id": "97535b2c-9dcc-4894-917b-76dc3f43d68b",
   "metadata": {},
   "outputs": [],
   "source": [
    "# exclusion flag low activity customers\n",
    "ords['low_activity_customer'] = ords['max_order'].apply(lambda x: 'Yes' if x < 5 else 'No')"
   ]
  },
  {
   "cell_type": "code",
   "execution_count": 32,
   "id": "6555e4c9-d88f-4608-b531-ef4d99411296",
   "metadata": {},
   "outputs": [],
   "source": [
    "#exporting\n",
    "ords.to_pickle(r\"C:\\Users\\bodhi\\Downloads\\instacart basket analysis\\data\\prepared data\\ords_prods_merge_flagged.pkl\")"
   ]
  },
  {
   "cell_type": "code",
   "execution_count": 40,
   "id": "63cdeeaf-49b6-4570-a89c-187111cbb95a",
   "metadata": {},
   "outputs": [],
   "source": [
    "#customer profile\n",
    "conditions = [\n",
    "    (ords['Age'] > 35) & (ords['fam_status'] == 'married'),\n",
    "    (ords['Age'] <= 35) & (ords['fam_status'] == 'married'),\n",
    "    (ords['Age'] > 35) & (ords['fam_status'] == 'single'),\n",
    "    (ords['Age'] <= 35) & (ords['fam_status'] == 'single')\n",
    "]\n",
    "values = ['older_married', 'younger_married', 'older_single', 'younger_single']\n",
    "ords['customer_profile'] = np.select(conditions, values, default='not enough data')"
   ]
  },
  {
   "cell_type": "code",
   "execution_count": 38,
   "id": "11e6480c-588a-4f83-991f-fe519fdb6279",
   "metadata": {},
   "outputs": [],
   "source": [
    "#importing\n",
    "import matplotlib.pyplot as plt\n",
    "import seaborn as sns\n",
    "import scipy"
   ]
  },
  {
   "cell_type": "code",
   "execution_count": 41,
   "id": "943c9534-a469-4297-9718-a92e86d86e53",
   "metadata": {},
   "outputs": [
    {
     "data": {
      "text/plain": [
       "<Axes: xlabel='customer_profile'>"
      ]
     },
     "execution_count": 41,
     "metadata": {},
     "output_type": "execute_result"
    },
    {
     "data": {
      "image/png": "[encoded data removed]",
      "text/plain": [
       "<Figure size 640x480 with 1 Axes>"
      ]
     },
     "metadata": {},
     "output_type": "display_data"
    }
   ],
   "source": [
    "#visualising customer profile\n",
    "ords['customer_profile'].value_counts().plot.bar()"
   ]
  },
  {
   "cell_type": "code",
   "execution_count": 47,
   "id": "e49b2ffa-1a89-4dad-9318-c4ca085c85b3",
   "metadata": {},
   "outputs": [],
   "source": [
    "#comparing customer profiles accross regions\n",
    "compare = pd.crosstab(ords['region'], ords['customer_profile'], dropna = False)"
   ]
  },
  {
   "cell_type": "code",
   "execution_count": 48,
   "id": "6e7bce94-4ed9-4c3a-ac13-14f9946bdfb3",
   "metadata": {},
   "outputs": [
    {
     "data": {
      "text/html": [
       "<div>\n",
       "<style scoped>\n",
       "    .dataframe tbody tr th:only-of-type {\n",
       "        vertical-align: middle;\n",
       "    }\n",
       "\n",
       "    .dataframe tbody tr th {\n",
       "        vertical-align: top;\n",
       "    }\n",
       "\n",
       "    .dataframe thead th {\n",
       "        text-align: right;\n",
       "    }\n",
       "</style>\n",
       "<table border=\"1\" class=\"dataframe\">\n",
       "  <thead>\n",
       "    <tr style=\"text-align: right;\">\n",
       "      <th>customer_profile</th>\n",
       "      <th>not enough data</th>\n",
       "      <th>older_married</th>\n",
       "      <th>older_single</th>\n",
       "      <th>younger_married</th>\n",
       "      <th>younger_single</th>\n",
       "    </tr>\n",
       "    <tr>\n",
       "      <th>region</th>\n",
       "      <th></th>\n",
       "      <th></th>\n",
       "      <th></th>\n",
       "      <th></th>\n",
       "      <th></th>\n",
       "    </tr>\n",
       "  </thead>\n",
       "  <tbody>\n",
       "    <tr>\n",
       "      <th>Midwest</th>\n",
       "      <td>1012918</td>\n",
       "      <td>4091295</td>\n",
       "      <td>744894</td>\n",
       "      <td>1234313</td>\n",
       "      <td>513905</td>\n",
       "    </tr>\n",
       "    <tr>\n",
       "      <th>North East</th>\n",
       "      <td>769173</td>\n",
       "      <td>3096842</td>\n",
       "      <td>501532</td>\n",
       "      <td>939479</td>\n",
       "      <td>415710</td>\n",
       "    </tr>\n",
       "    <tr>\n",
       "      <th>Not enough data</th>\n",
       "      <td>88288</td>\n",
       "      <td>332129</td>\n",
       "      <td>61240</td>\n",
       "      <td>107411</td>\n",
       "      <td>47956</td>\n",
       "    </tr>\n",
       "    <tr>\n",
       "      <th>South</th>\n",
       "      <td>1362145</td>\n",
       "      <td>5447830</td>\n",
       "      <td>942776</td>\n",
       "      <td>1673272</td>\n",
       "      <td>728838</td>\n",
       "    </tr>\n",
       "    <tr>\n",
       "      <th>West</th>\n",
       "      <td>1089891</td>\n",
       "      <td>4469063</td>\n",
       "      <td>799027</td>\n",
       "      <td>1365119</td>\n",
       "      <td>569813</td>\n",
       "    </tr>\n",
       "  </tbody>\n",
       "</table>\n",
       "</div>"
      ],
      "text/plain": [
       "customer_profile  not enough data  older_married  older_single  \\\n",
       "region                                                           \n",
       "Midwest                   1012918        4091295        744894   \n",
       "North East                 769173        3096842        501532   \n",
       "Not enough data             88288         332129         61240   \n",
       "South                     1362145        5447830        942776   \n",
       "West                      1089891        4469063        799027   \n",
       "\n",
       "customer_profile  younger_married  younger_single  \n",
       "region                                             \n",
       "Midwest                   1234313          513905  \n",
       "North East                 939479          415710  \n",
       "Not enough data            107411           47956  \n",
       "South                     1673272          728838  \n",
       "West                      1365119          569813  "
      ]
     },
     "execution_count": 48,
     "metadata": {},
     "output_type": "execute_result"
    }
   ],
   "source": [
    "compare"
   ]
  },
  {
   "cell_type": "code",
   "execution_count": 50,
   "id": "d3ffcae5-756a-4414-a65e-13a890f46e70",
   "metadata": {},
   "outputs": [],
   "source": [
    "#comparing customer profiles accross department id\n",
    "compare1 = pd.crosstab(ords['department_id'], ords['customer_profile'], dropna = False)"
   ]
  },
  {
   "cell_type": "code",
   "execution_count": 51,
   "id": "161f932d-7c46-41c4-bc8d-b8c551ad1a9d",
   "metadata": {},
   "outputs": [
    {
     "data": {
      "text/html": [
       "<div>\n",
       "<style scoped>\n",
       "    .dataframe tbody tr th:only-of-type {\n",
       "        vertical-align: middle;\n",
       "    }\n",
       "\n",
       "    .dataframe tbody tr th {\n",
       "        vertical-align: top;\n",
       "    }\n",
       "\n",
       "    .dataframe thead th {\n",
       "        text-align: right;\n",
       "    }\n",
       "</style>\n",
       "<table border=\"1\" class=\"dataframe\">\n",
       "  <thead>\n",
       "    <tr style=\"text-align: right;\">\n",
       "      <th>customer_profile</th>\n",
       "      <th>not enough data</th>\n",
       "      <th>older_married</th>\n",
       "      <th>older_single</th>\n",
       "      <th>younger_married</th>\n",
       "      <th>younger_single</th>\n",
       "    </tr>\n",
       "    <tr>\n",
       "      <th>department_id</th>\n",
       "      <th></th>\n",
       "      <th></th>\n",
       "      <th></th>\n",
       "      <th></th>\n",
       "      <th></th>\n",
       "    </tr>\n",
       "  </thead>\n",
       "  <tbody>\n",
       "    <tr>\n",
       "      <th>1</th>\n",
       "      <td>302108</td>\n",
       "      <td>1202882</td>\n",
       "      <td>209363</td>\n",
       "      <td>366168</td>\n",
       "      <td>154222</td>\n",
       "    </tr>\n",
       "    <tr>\n",
       "      <th>2</th>\n",
       "      <td>4913</td>\n",
       "      <td>19337</td>\n",
       "      <td>3541</td>\n",
       "      <td>5868</td>\n",
       "      <td>2632</td>\n",
       "    </tr>\n",
       "    <tr>\n",
       "      <th>3</th>\n",
       "      <td>156543</td>\n",
       "      <td>629686</td>\n",
       "      <td>110459</td>\n",
       "      <td>192195</td>\n",
       "      <td>83545</td>\n",
       "    </tr>\n",
       "    <tr>\n",
       "      <th>4</th>\n",
       "      <td>1262462</td>\n",
       "      <td>5101048</td>\n",
       "      <td>896764</td>\n",
       "      <td>1553170</td>\n",
       "      <td>665847</td>\n",
       "    </tr>\n",
       "    <tr>\n",
       "      <th>5</th>\n",
       "      <td>21511</td>\n",
       "      <td>80509</td>\n",
       "      <td>15645</td>\n",
       "      <td>25173</td>\n",
       "      <td>10858</td>\n",
       "    </tr>\n",
       "    <tr>\n",
       "      <th>6</th>\n",
       "      <td>36134</td>\n",
       "      <td>144286</td>\n",
       "      <td>25248</td>\n",
       "      <td>44180</td>\n",
       "      <td>19405</td>\n",
       "    </tr>\n",
       "    <tr>\n",
       "      <th>7</th>\n",
       "      <td>355654</td>\n",
       "      <td>1452820</td>\n",
       "      <td>254039</td>\n",
       "      <td>436232</td>\n",
       "      <td>189378</td>\n",
       "    </tr>\n",
       "    <tr>\n",
       "      <th>8</th>\n",
       "      <td>14029</td>\n",
       "      <td>52465</td>\n",
       "      <td>9117</td>\n",
       "      <td>15048</td>\n",
       "      <td>7057</td>\n",
       "    </tr>\n",
       "    <tr>\n",
       "      <th>9</th>\n",
       "      <td>115922</td>\n",
       "      <td>467059</td>\n",
       "      <td>79997</td>\n",
       "      <td>142604</td>\n",
       "      <td>61045</td>\n",
       "    </tr>\n",
       "    <tr>\n",
       "      <th>10</th>\n",
       "      <td>4439</td>\n",
       "      <td>18764</td>\n",
       "      <td>3117</td>\n",
       "      <td>5857</td>\n",
       "      <td>2396</td>\n",
       "    </tr>\n",
       "    <tr>\n",
       "      <th>11</th>\n",
       "      <td>59854</td>\n",
       "      <td>242073</td>\n",
       "      <td>41836</td>\n",
       "      <td>72181</td>\n",
       "      <td>31628</td>\n",
       "    </tr>\n",
       "    <tr>\n",
       "      <th>12</th>\n",
       "      <td>94458</td>\n",
       "      <td>384185</td>\n",
       "      <td>65195</td>\n",
       "      <td>116677</td>\n",
       "      <td>48412</td>\n",
       "    </tr>\n",
       "    <tr>\n",
       "      <th>13</th>\n",
       "      <td>250253</td>\n",
       "      <td>1011068</td>\n",
       "      <td>175203</td>\n",
       "      <td>307272</td>\n",
       "      <td>131573</td>\n",
       "    </tr>\n",
       "    <tr>\n",
       "      <th>14</th>\n",
       "      <td>94229</td>\n",
       "      <td>377125</td>\n",
       "      <td>65799</td>\n",
       "      <td>116600</td>\n",
       "      <td>49280</td>\n",
       "    </tr>\n",
       "    <tr>\n",
       "      <th>15</th>\n",
       "      <td>140449</td>\n",
       "      <td>575066</td>\n",
       "      <td>100555</td>\n",
       "      <td>176964</td>\n",
       "      <td>75024</td>\n",
       "    </tr>\n",
       "    <tr>\n",
       "      <th>16</th>\n",
       "      <td>722698</td>\n",
       "      <td>2894995</td>\n",
       "      <td>507829</td>\n",
       "      <td>893603</td>\n",
       "      <td>379622</td>\n",
       "    </tr>\n",
       "    <tr>\n",
       "      <th>17</th>\n",
       "      <td>97031</td>\n",
       "      <td>402829</td>\n",
       "      <td>67170</td>\n",
       "      <td>119838</td>\n",
       "      <td>51798</td>\n",
       "    </tr>\n",
       "    <tr>\n",
       "      <th>18</th>\n",
       "      <td>55472</td>\n",
       "      <td>230177</td>\n",
       "      <td>40894</td>\n",
       "      <td>66985</td>\n",
       "      <td>30274</td>\n",
       "    </tr>\n",
       "    <tr>\n",
       "      <th>19</th>\n",
       "      <td>383959</td>\n",
       "      <td>1550185</td>\n",
       "      <td>271434</td>\n",
       "      <td>479404</td>\n",
       "      <td>202568</td>\n",
       "    </tr>\n",
       "    <tr>\n",
       "      <th>20</th>\n",
       "      <td>141233</td>\n",
       "      <td>563439</td>\n",
       "      <td>99805</td>\n",
       "      <td>172250</td>\n",
       "      <td>74522</td>\n",
       "    </tr>\n",
       "    <tr>\n",
       "      <th>21</th>\n",
       "      <td>9064</td>\n",
       "      <td>37161</td>\n",
       "      <td>6459</td>\n",
       "      <td>11325</td>\n",
       "      <td>5136</td>\n",
       "    </tr>\n",
       "  </tbody>\n",
       "</table>\n",
       "</div>"
      ],
      "text/plain": [
       "customer_profile  not enough data  older_married  older_single  \\\n",
       "department_id                                                    \n",
       "1                          302108        1202882        209363   \n",
       "2                            4913          19337          3541   \n",
       "3                          156543         629686        110459   \n",
       "4                         1262462        5101048        896764   \n",
       "5                           21511          80509         15645   \n",
       "6                           36134         144286         25248   \n",
       "7                          355654        1452820        254039   \n",
       "8                           14029          52465          9117   \n",
       "9                          115922         467059         79997   \n",
       "10                           4439          18764          3117   \n",
       "11                          59854         242073         41836   \n",
       "12                          94458         384185         65195   \n",
       "13                         250253        1011068        175203   \n",
       "14                          94229         377125         65799   \n",
       "15                         140449         575066        100555   \n",
       "16                         722698        2894995        507829   \n",
       "17                          97031         402829         67170   \n",
       "18                          55472         230177         40894   \n",
       "19                         383959        1550185        271434   \n",
       "20                         141233         563439         99805   \n",
       "21                           9064          37161          6459   \n",
       "\n",
       "customer_profile  younger_married  younger_single  \n",
       "department_id                                      \n",
       "1                          366168          154222  \n",
       "2                            5868            2632  \n",
       "3                          192195           83545  \n",
       "4                         1553170          665847  \n",
       "5                           25173           10858  \n",
       "6                           44180           19405  \n",
       "7                          436232          189378  \n",
       "8                           15048            7057  \n",
       "9                          142604           61045  \n",
       "10                           5857            2396  \n",
       "11                          72181           31628  \n",
       "12                         116677           48412  \n",
       "13                         307272          131573  \n",
       "14                         116600           49280  \n",
       "15                         176964           75024  \n",
       "16                         893603          379622  \n",
       "17                         119838           51798  \n",
       "18                          66985           30274  \n",
       "19                         479404          202568  \n",
       "20                         172250           74522  \n",
       "21                          11325            5136  "
      ]
     },
     "execution_count": 51,
     "metadata": {},
     "output_type": "execute_result"
    }
   ],
   "source": [
    "compare1"
   ]
  },
  {
   "cell_type": "code",
   "execution_count": 58,
   "id": "21185d24-d86c-4077-ba92-a85879ac1e35",
   "metadata": {},
   "outputs": [
    {
     "data": {
      "image/png": "[encoded data removed]",
      "text/plain": [
       "<Figure size 640x480 with 1 Axes>"
      ]
     },
     "metadata": {},
     "output_type": "display_data"
    }
   ],
   "source": [
    "bar1 = compare.plot.bar()"
   ]
  },
  {
   "cell_type": "code",
   "execution_count": 57,
   "id": "0abfa564-d694-4e13-bfa6-cd81c99d2a6f",
   "metadata": {},
   "outputs": [
    {
     "data": {
      "image/png": "[encoded data removed]",
      "text/plain": [
       "<Figure size 640x480 with 1 Axes>"
      ]
     },
     "metadata": {},
     "output_type": "display_data"
    }
   ],
   "source": [
    "bar2 = compare1.plot.bar()"
   ]
  },
  {
   "cell_type": "markdown",
   "id": "ddbacc77-02db-40a0-bba2-8eb2dad563c1",
   "metadata": {},
   "source": [
    "the customer profiles seem to be very normally distributed between each department id and region"
   ]
  },
  {
   "cell_type": "code",
   "execution_count": 10,
   "id": "41759b50-72b9-4ce1-a80f-ddc29ac3fd18",
   "metadata": {},
   "outputs": [],
   "source": [
    "#count of orders across departments\n",
    "count = ords['department_id'].value_counts()"
   ]
  },
  {
   "cell_type": "code",
   "execution_count": 6,
   "id": "a54306fa-760a-40af-bd8a-78b5e921af66",
   "metadata": {},
   "outputs": [
    {
     "data": {
      "image/png": "[encoded data removed]",
      "text/plain": [
       "<Figure size 640x480 with 1 Axes>"
      ]
     },
     "metadata": {},
     "output_type": "display_data"
    }
   ],
   "source": [
    "bar3 = count.plot.bar()\n"
   ]
  },
  {
   "cell_type": "code",
   "execution_count": 9,
   "id": "e6d9a179-b7f0-48a7-b7d3-3788fd4f9b09",
   "metadata": {},
   "outputs": [],
   "source": [
    "#count of orders across departments\n",
    "count1 = ords['price_range_loc'].value_counts()"
   ]
  },
  {
   "cell_type": "code",
   "execution_count": 11,
   "id": "87bed905-d0f7-40d1-a403-e33ed5f829e0",
   "metadata": {},
   "outputs": [
    {
     "data": {
      "image/png": "[encoded data removed]",
      "text/plain": [
       "<Figure size 640x480 with 1 Axes>"
      ]
     },
     "metadata": {},
     "output_type": "display_data"
    }
   ],
   "source": [
    "bar4 = count1.plot.bar()"
   ]
  },
  {
   "cell_type": "code",
   "execution_count": 62,
   "id": "1af638ec-6ea7-466a-b73b-eb043d6b6345",
   "metadata": {},
   "outputs": [],
   "source": [
    "#exporting visualisations\n",
    "bar1.figure.savefig(r\"C:\\Users\\bodhi\\Downloads\\instacart basket analysis\\analysis\\visualisations\\bar-profile-region\")\n",
    "bar2.figure.savefig(r\"C:\\Users\\bodhi\\Downloads\\instacart basket analysis\\analysis\\visualisations\\bar-profile-dep\")"
   ]
  },
  {
   "cell_type": "code",
   "execution_count": 7,
   "id": "1eeaf95f-2852-40f7-8897-0cabd997d338",
   "metadata": {},
   "outputs": [],
   "source": [
    "bar3.figure.savefig(r\"C:\\Users\\bodhi\\Downloads\\instacart basket analysis\\analysis\\visualisations\\bar-dep-counts\")"
   ]
  },
  {
   "cell_type": "code",
   "execution_count": null,
   "id": "d9fc1d61-cad5-4446-a728-c5d1a5a24e97",
   "metadata": {},
   "outputs": [],
   "source": []
  }
 ],
 "metadata": {
  "kernelspec": {
   "display_name": "Python [conda env:base] *",
   "language": "python",
   "name": "conda-base-py"
  },
  "language_info": {
   "codemirror_mode": {
    "name": "ipython",
    "version": 3
   },
   "file_extension": ".py",
   "mimetype": "text/x-python",
   "name": "python",
   "nbconvert_exporter": "python",
   "pygments_lexer": "ipython3",
   "version": "3.13.5"
  }
 },
 "nbformat": 4,
 "nbformat_minor": 5
}
