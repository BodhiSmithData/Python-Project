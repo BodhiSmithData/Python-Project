{
 "cells": [
  {
   "cell_type": "markdown",
   "id": "30d52484-ba94-4edb-8571-3da37bf45e2e",
   "metadata": {},
   "source": [
    "importing"
   ]
  },
  {
   "cell_type": "code",
   "execution_count": 1,
   "id": "e164a4f2-6dcf-410a-9ba3-c44f0c5a4a4a",
   "metadata": {},
   "outputs": [],
   "source": [
    "# Import libraries\n",
    "\n",
    "import pandas as pd\n",
    "import numpy as np\n",
    "import os"
   ]
  },
  {
   "cell_type": "code",
   "execution_count": 2,
   "id": "c3d778f7-3ed4-41c1-9eb1-a77ed73cd949",
   "metadata": {},
   "outputs": [],
   "source": [
    "df_ords_combined = pd.read_pickle(r\"C:\\Users\\bodhi\\Downloads\\instacart basket analysis\\data\\prepared data\\orders_products_combined.pkl\")"
   ]
  },
  {
   "cell_type": "code",
   "execution_count": 3,
   "id": "d89b5a27-c17e-4b37-8514-40d69a2cac22",
   "metadata": {},
   "outputs": [
    {
     "data": {
      "text/plain": [
       "(32434489, 13)"
      ]
     },
     "execution_count": 3,
     "metadata": {},
     "output_type": "execute_result"
    }
   ],
   "source": [
    "df_ords_combined.shape"
   ]
  },
  {
   "cell_type": "code",
   "execution_count": 4,
   "id": "5c19709e-f92a-40ba-b32d-e5a8f9c3cabe",
   "metadata": {},
   "outputs": [
    {
     "data": {
      "text/html": [
       "<div>\n",
       "<style scoped>\n",
       "    .dataframe tbody tr th:only-of-type {\n",
       "        vertical-align: middle;\n",
       "    }\n",
       "\n",
       "    .dataframe tbody tr th {\n",
       "        vertical-align: top;\n",
       "    }\n",
       "\n",
       "    .dataframe thead th {\n",
       "        text-align: right;\n",
       "    }\n",
       "</style>\n",
       "<table border=\"1\" class=\"dataframe\">\n",
       "  <thead>\n",
       "    <tr style=\"text-align: right;\">\n",
       "      <th></th>\n",
       "      <th>Unnamed: 0</th>\n",
       "      <th>order_id</th>\n",
       "      <th>user_id</th>\n",
       "      <th>eval_set</th>\n",
       "      <th>order_number</th>\n",
       "      <th>order_dow</th>\n",
       "      <th>order_hour_of_day</th>\n",
       "      <th>days_since_prior_order</th>\n",
       "      <th>order_type</th>\n",
       "      <th>product_id</th>\n",
       "      <th>add_to_cart_order</th>\n",
       "      <th>reordered</th>\n",
       "      <th>_merge</th>\n",
       "    </tr>\n",
       "  </thead>\n",
       "  <tbody>\n",
       "    <tr>\n",
       "      <th>0</th>\n",
       "      <td>0</td>\n",
       "      <td>2539329.0</td>\n",
       "      <td>1.0</td>\n",
       "      <td>prior</td>\n",
       "      <td>1.0</td>\n",
       "      <td>2.0</td>\n",
       "      <td>8.0</td>\n",
       "      <td>NaN</td>\n",
       "      <td>First Order</td>\n",
       "      <td>196</td>\n",
       "      <td>1</td>\n",
       "      <td>0</td>\n",
       "      <td>both</td>\n",
       "    </tr>\n",
       "    <tr>\n",
       "      <th>1</th>\n",
       "      <td>0</td>\n",
       "      <td>2539329.0</td>\n",
       "      <td>1.0</td>\n",
       "      <td>prior</td>\n",
       "      <td>1.0</td>\n",
       "      <td>2.0</td>\n",
       "      <td>8.0</td>\n",
       "      <td>NaN</td>\n",
       "      <td>First Order</td>\n",
       "      <td>14084</td>\n",
       "      <td>2</td>\n",
       "      <td>0</td>\n",
       "      <td>both</td>\n",
       "    </tr>\n",
       "    <tr>\n",
       "      <th>2</th>\n",
       "      <td>0</td>\n",
       "      <td>2539329.0</td>\n",
       "      <td>1.0</td>\n",
       "      <td>prior</td>\n",
       "      <td>1.0</td>\n",
       "      <td>2.0</td>\n",
       "      <td>8.0</td>\n",
       "      <td>NaN</td>\n",
       "      <td>First Order</td>\n",
       "      <td>12427</td>\n",
       "      <td>3</td>\n",
       "      <td>0</td>\n",
       "      <td>both</td>\n",
       "    </tr>\n",
       "    <tr>\n",
       "      <th>3</th>\n",
       "      <td>0</td>\n",
       "      <td>2539329.0</td>\n",
       "      <td>1.0</td>\n",
       "      <td>prior</td>\n",
       "      <td>1.0</td>\n",
       "      <td>2.0</td>\n",
       "      <td>8.0</td>\n",
       "      <td>NaN</td>\n",
       "      <td>First Order</td>\n",
       "      <td>26088</td>\n",
       "      <td>4</td>\n",
       "      <td>0</td>\n",
       "      <td>both</td>\n",
       "    </tr>\n",
       "    <tr>\n",
       "      <th>4</th>\n",
       "      <td>0</td>\n",
       "      <td>2539329.0</td>\n",
       "      <td>1.0</td>\n",
       "      <td>prior</td>\n",
       "      <td>1.0</td>\n",
       "      <td>2.0</td>\n",
       "      <td>8.0</td>\n",
       "      <td>NaN</td>\n",
       "      <td>First Order</td>\n",
       "      <td>26405</td>\n",
       "      <td>5</td>\n",
       "      <td>0</td>\n",
       "      <td>both</td>\n",
       "    </tr>\n",
       "  </tbody>\n",
       "</table>\n",
       "</div>"
      ],
      "text/plain": [
       "   Unnamed: 0   order_id  user_id eval_set  order_number  order_dow  \\\n",
       "0           0  2539329.0      1.0    prior           1.0        2.0   \n",
       "1           0  2539329.0      1.0    prior           1.0        2.0   \n",
       "2           0  2539329.0      1.0    prior           1.0        2.0   \n",
       "3           0  2539329.0      1.0    prior           1.0        2.0   \n",
       "4           0  2539329.0      1.0    prior           1.0        2.0   \n",
       "\n",
       "   order_hour_of_day  days_since_prior_order   order_type  product_id  \\\n",
       "0                8.0                     NaN  First Order         196   \n",
       "1                8.0                     NaN  First Order       14084   \n",
       "2                8.0                     NaN  First Order       12427   \n",
       "3                8.0                     NaN  First Order       26088   \n",
       "4                8.0                     NaN  First Order       26405   \n",
       "\n",
       "   add_to_cart_order  reordered _merge  \n",
       "0                  1          0   both  \n",
       "1                  2          0   both  \n",
       "2                  3          0   both  \n",
       "3                  4          0   both  \n",
       "4                  5          0   both  "
      ]
     },
     "execution_count": 4,
     "metadata": {},
     "output_type": "execute_result"
    }
   ],
   "source": [
    "df_ords_combined.head()"
   ]
  },
  {
   "cell_type": "code",
   "execution_count": 5,
   "id": "18fd7313-4c17-4113-bf2e-6859f46cc7b3",
   "metadata": {},
   "outputs": [],
   "source": [
    "df_prods = pd.read_csv(r\"C:\\Users\\bodhi\\Downloads\\instacart basket analysis\\data\\prepared data\\products_checked.csv\")"
   ]
  },
  {
   "cell_type": "code",
   "execution_count": 6,
   "id": "c8bc424b-f58d-4b23-9fff-7ec89d6c4657",
   "metadata": {},
   "outputs": [
    {
     "data": {
      "text/plain": [
       "(49672, 6)"
      ]
     },
     "execution_count": 6,
     "metadata": {},
     "output_type": "execute_result"
    }
   ],
   "source": [
    "df_prods.shape"
   ]
  },
  {
   "cell_type": "code",
   "execution_count": 7,
   "id": "ca1ec552-e5b2-4866-b87b-4cdfe37fd553",
   "metadata": {},
   "outputs": [
    {
     "data": {
      "text/html": [
       "<div>\n",
       "<style scoped>\n",
       "    .dataframe tbody tr th:only-of-type {\n",
       "        vertical-align: middle;\n",
       "    }\n",
       "\n",
       "    .dataframe tbody tr th {\n",
       "        vertical-align: top;\n",
       "    }\n",
       "\n",
       "    .dataframe thead th {\n",
       "        text-align: right;\n",
       "    }\n",
       "</style>\n",
       "<table border=\"1\" class=\"dataframe\">\n",
       "  <thead>\n",
       "    <tr style=\"text-align: right;\">\n",
       "      <th></th>\n",
       "      <th>Unnamed: 0</th>\n",
       "      <th>product_id</th>\n",
       "      <th>product_name</th>\n",
       "      <th>aisle_id</th>\n",
       "      <th>department_id</th>\n",
       "      <th>prices</th>\n",
       "    </tr>\n",
       "  </thead>\n",
       "  <tbody>\n",
       "    <tr>\n",
       "      <th>0</th>\n",
       "      <td>0</td>\n",
       "      <td>1</td>\n",
       "      <td>Chocolate Sandwich Cookies</td>\n",
       "      <td>61</td>\n",
       "      <td>19</td>\n",
       "      <td>5.8</td>\n",
       "    </tr>\n",
       "    <tr>\n",
       "      <th>1</th>\n",
       "      <td>1</td>\n",
       "      <td>2</td>\n",
       "      <td>All-Seasons Salt</td>\n",
       "      <td>104</td>\n",
       "      <td>13</td>\n",
       "      <td>9.3</td>\n",
       "    </tr>\n",
       "    <tr>\n",
       "      <th>2</th>\n",
       "      <td>2</td>\n",
       "      <td>3</td>\n",
       "      <td>Robust Golden Unsweetened Oolong Tea</td>\n",
       "      <td>94</td>\n",
       "      <td>7</td>\n",
       "      <td>4.5</td>\n",
       "    </tr>\n",
       "    <tr>\n",
       "      <th>3</th>\n",
       "      <td>3</td>\n",
       "      <td>4</td>\n",
       "      <td>Smart Ones Classic Favorites Mini Rigatoni Wit...</td>\n",
       "      <td>38</td>\n",
       "      <td>1</td>\n",
       "      <td>10.5</td>\n",
       "    </tr>\n",
       "    <tr>\n",
       "      <th>4</th>\n",
       "      <td>4</td>\n",
       "      <td>5</td>\n",
       "      <td>Green Chile Anytime Sauce</td>\n",
       "      <td>5</td>\n",
       "      <td>13</td>\n",
       "      <td>4.3</td>\n",
       "    </tr>\n",
       "  </tbody>\n",
       "</table>\n",
       "</div>"
      ],
      "text/plain": [
       "   Unnamed: 0  product_id                                       product_name  \\\n",
       "0           0           1                         Chocolate Sandwich Cookies   \n",
       "1           1           2                                   All-Seasons Salt   \n",
       "2           2           3               Robust Golden Unsweetened Oolong Tea   \n",
       "3           3           4  Smart Ones Classic Favorites Mini Rigatoni Wit...   \n",
       "4           4           5                          Green Chile Anytime Sauce   \n",
       "\n",
       "   aisle_id  department_id  prices  \n",
       "0        61             19     5.8  \n",
       "1       104             13     9.3  \n",
       "2        94              7     4.5  \n",
       "3        38              1    10.5  \n",
       "4         5             13     4.3  "
      ]
     },
     "execution_count": 7,
     "metadata": {},
     "output_type": "execute_result"
    }
   ],
   "source": [
    "df_prods.head()"
   ]
  },
  {
   "cell_type": "markdown",
   "id": "91a52a1c-d969-4516-84fa-4b701d6cca24",
   "metadata": {},
   "source": [
    "wrangling"
   ]
  },
  {
   "cell_type": "code",
   "execution_count": 8,
   "id": "eed1eaa1-b010-4eb1-9361-bf16504f8fea",
   "metadata": {},
   "outputs": [],
   "source": [
    "df_ords_combined = df_ords_combined.drop('reordered', axis=1) \n"
   ]
  },
  {
   "cell_type": "code",
   "execution_count": 9,
   "id": "ceaa2e57-db50-4486-9061-bc59da68bd32",
   "metadata": {},
   "outputs": [],
   "source": [
    "df_ords_combined = df_ords_combined.drop('_merge', axis=1) "
   ]
  },
  {
   "cell_type": "code",
   "execution_count": 10,
   "id": "69613362-fa64-4eed-b708-ec32da7acc38",
   "metadata": {},
   "outputs": [],
   "source": [
    "df_ords_combined['product_id'] =df_ords_combined['product_id'].astype('int32')\n",
    "df_ords_combined['add_to_cart_order']=df_ords_combined['add_to_cart_order'].astype('int32')"
   ]
  },
  {
   "cell_type": "code",
   "execution_count": 11,
   "id": "7c613d54-8090-488a-a96c-33783573004d",
   "metadata": {},
   "outputs": [],
   "source": [
    "df_ords_combined ['order_id']=df_ords_combined ['order_id'].astype('int32')\n",
    "df_ords_combined ['user_id'] =df_ords_combined ['user_id'].astype('int32')\n",
    "df_ords_combined ['order_number']=df_ords_combined ['order_number'].astype('int8')\n",
    "df_ords_combined ['order_dow']=df_ords_combined ['order_dow'].astype('int8')\n",
    "df_ords_combined ['order_hour_of_day']=df_ords_combined ['order_hour_of_day'].astype('int8')\n",
    "df_ords_combined ['days_since_prior_order']=df_ords_combined ['days_since_prior_order'].astype('float16')"
   ]
  },
  {
   "cell_type": "markdown",
   "id": "ce0dc48d-57dc-4047-b4d5-4f2f8bc427e3",
   "metadata": {},
   "source": [
    "merging + exporting"
   ]
  },
  {
   "cell_type": "code",
   "execution_count": 14,
   "id": "d2d40398-9fcb-4981-a399-d861159cc990",
   "metadata": {},
   "outputs": [],
   "source": [
    "ords_prods_merge = df_ords_combined.merge(df_prods , on = 'product_id' , indicator = 'match' )"
   ]
  },
  {
   "cell_type": "code",
   "execution_count": 15,
   "id": "f3771605-2167-4456-a054-b8272592f561",
   "metadata": {},
   "outputs": [
    {
     "data": {
      "text/html": [
       "<div>\n",
       "<style scoped>\n",
       "    .dataframe tbody tr th:only-of-type {\n",
       "        vertical-align: middle;\n",
       "    }\n",
       "\n",
       "    .dataframe tbody tr th {\n",
       "        vertical-align: top;\n",
       "    }\n",
       "\n",
       "    .dataframe thead th {\n",
       "        text-align: right;\n",
       "    }\n",
       "</style>\n",
       "<table border=\"1\" class=\"dataframe\">\n",
       "  <thead>\n",
       "    <tr style=\"text-align: right;\">\n",
       "      <th></th>\n",
       "      <th>Unnamed: 0_x</th>\n",
       "      <th>order_id</th>\n",
       "      <th>user_id</th>\n",
       "      <th>eval_set</th>\n",
       "      <th>order_number</th>\n",
       "      <th>order_dow</th>\n",
       "      <th>order_hour_of_day</th>\n",
       "      <th>days_since_prior_order</th>\n",
       "      <th>order_type</th>\n",
       "      <th>product_id</th>\n",
       "      <th>add_to_cart_order</th>\n",
       "      <th>Unnamed: 0_y</th>\n",
       "      <th>product_name</th>\n",
       "      <th>aisle_id</th>\n",
       "      <th>department_id</th>\n",
       "      <th>prices</th>\n",
       "      <th>match</th>\n",
       "    </tr>\n",
       "  </thead>\n",
       "  <tbody>\n",
       "    <tr>\n",
       "      <th>0</th>\n",
       "      <td>0</td>\n",
       "      <td>2539329</td>\n",
       "      <td>1</td>\n",
       "      <td>prior</td>\n",
       "      <td>1</td>\n",
       "      <td>2</td>\n",
       "      <td>8</td>\n",
       "      <td>NaN</td>\n",
       "      <td>First Order</td>\n",
       "      <td>196</td>\n",
       "      <td>1</td>\n",
       "      <td>195</td>\n",
       "      <td>Soda</td>\n",
       "      <td>77</td>\n",
       "      <td>7</td>\n",
       "      <td>9.0</td>\n",
       "      <td>both</td>\n",
       "    </tr>\n",
       "    <tr>\n",
       "      <th>1</th>\n",
       "      <td>0</td>\n",
       "      <td>2539329</td>\n",
       "      <td>1</td>\n",
       "      <td>prior</td>\n",
       "      <td>1</td>\n",
       "      <td>2</td>\n",
       "      <td>8</td>\n",
       "      <td>NaN</td>\n",
       "      <td>First Order</td>\n",
       "      <td>14084</td>\n",
       "      <td>2</td>\n",
       "      <td>14084</td>\n",
       "      <td>Organic Unsweetened Vanilla Almond Milk</td>\n",
       "      <td>91</td>\n",
       "      <td>16</td>\n",
       "      <td>12.5</td>\n",
       "      <td>both</td>\n",
       "    </tr>\n",
       "    <tr>\n",
       "      <th>2</th>\n",
       "      <td>0</td>\n",
       "      <td>2539329</td>\n",
       "      <td>1</td>\n",
       "      <td>prior</td>\n",
       "      <td>1</td>\n",
       "      <td>2</td>\n",
       "      <td>8</td>\n",
       "      <td>NaN</td>\n",
       "      <td>First Order</td>\n",
       "      <td>12427</td>\n",
       "      <td>3</td>\n",
       "      <td>12427</td>\n",
       "      <td>Original Beef Jerky</td>\n",
       "      <td>23</td>\n",
       "      <td>19</td>\n",
       "      <td>4.4</td>\n",
       "      <td>both</td>\n",
       "    </tr>\n",
       "    <tr>\n",
       "      <th>3</th>\n",
       "      <td>0</td>\n",
       "      <td>2539329</td>\n",
       "      <td>1</td>\n",
       "      <td>prior</td>\n",
       "      <td>1</td>\n",
       "      <td>2</td>\n",
       "      <td>8</td>\n",
       "      <td>NaN</td>\n",
       "      <td>First Order</td>\n",
       "      <td>26088</td>\n",
       "      <td>4</td>\n",
       "      <td>26089</td>\n",
       "      <td>Aged White Cheddar Popcorn</td>\n",
       "      <td>23</td>\n",
       "      <td>19</td>\n",
       "      <td>4.7</td>\n",
       "      <td>both</td>\n",
       "    </tr>\n",
       "    <tr>\n",
       "      <th>4</th>\n",
       "      <td>0</td>\n",
       "      <td>2539329</td>\n",
       "      <td>1</td>\n",
       "      <td>prior</td>\n",
       "      <td>1</td>\n",
       "      <td>2</td>\n",
       "      <td>8</td>\n",
       "      <td>NaN</td>\n",
       "      <td>First Order</td>\n",
       "      <td>26405</td>\n",
       "      <td>5</td>\n",
       "      <td>26406</td>\n",
       "      <td>XL Pick-A-Size Paper Towel Rolls</td>\n",
       "      <td>54</td>\n",
       "      <td>17</td>\n",
       "      <td>1.0</td>\n",
       "      <td>both</td>\n",
       "    </tr>\n",
       "  </tbody>\n",
       "</table>\n",
       "</div>"
      ],
      "text/plain": [
       "   Unnamed: 0_x  order_id  user_id eval_set  order_number  order_dow  \\\n",
       "0             0   2539329        1    prior             1          2   \n",
       "1             0   2539329        1    prior             1          2   \n",
       "2             0   2539329        1    prior             1          2   \n",
       "3             0   2539329        1    prior             1          2   \n",
       "4             0   2539329        1    prior             1          2   \n",
       "\n",
       "   order_hour_of_day  days_since_prior_order   order_type  product_id  \\\n",
       "0                  8                     NaN  First Order         196   \n",
       "1                  8                     NaN  First Order       14084   \n",
       "2                  8                     NaN  First Order       12427   \n",
       "3                  8                     NaN  First Order       26088   \n",
       "4                  8                     NaN  First Order       26405   \n",
       "\n",
       "   add_to_cart_order  Unnamed: 0_y                             product_name  \\\n",
       "0                  1           195                                     Soda   \n",
       "1                  2         14084  Organic Unsweetened Vanilla Almond Milk   \n",
       "2                  3         12427                      Original Beef Jerky   \n",
       "3                  4         26089               Aged White Cheddar Popcorn   \n",
       "4                  5         26406         XL Pick-A-Size Paper Towel Rolls   \n",
       "\n",
       "   aisle_id  department_id  prices match  \n",
       "0        77              7     9.0  both  \n",
       "1        91             16    12.5  both  \n",
       "2        23             19     4.4  both  \n",
       "3        23             19     4.7  both  \n",
       "4        54             17     1.0  both  "
      ]
     },
     "execution_count": 15,
     "metadata": {},
     "output_type": "execute_result"
    }
   ],
   "source": [
    "ords_prods_merge.head()"
   ]
  },
  {
   "cell_type": "code",
   "execution_count": 17,
   "id": "81a5ec64-667b-4338-88a3-943a916e186b",
   "metadata": {},
   "outputs": [
    {
     "data": {
      "text/plain": [
       "match\n",
       "both          32404859\n",
       "left_only            0\n",
       "right_only           0\n",
       "Name: count, dtype: int64"
      ]
     },
     "execution_count": 17,
     "metadata": {},
     "output_type": "execute_result"
    }
   ],
   "source": [
    "ords_prods_merge['match'].value_counts()"
   ]
  },
  {
   "cell_type": "code",
   "execution_count": 18,
   "id": "62e969ff-a2c8-4686-88f6-dc60b3425168",
   "metadata": {},
   "outputs": [],
   "source": [
    "#exporting\n",
    "ords_prods_merge.to_pickle(r\"C:\\Users\\bodhi\\Downloads\\instacart basket analysis\\data\\prepared data\\ords_prods_merge.pkl\")"
   ]
  },
  {
   "cell_type": "code",
   "execution_count": null,
   "id": "ffe2469d-35d9-4b4d-8f16-c0dfbc9fd0c7",
   "metadata": {},
   "outputs": [],
   "source": []
  }
 ],
 "metadata": {
  "kernelspec": {
   "display_name": "Python [conda env:base] *",
   "language": "python",
   "name": "conda-base-py"
  },
  "language_info": {
   "codemirror_mode": {
    "name": "ipython",
    "version": 3
   },
   "file_extension": ".py",
   "mimetype": "text/x-python",
   "name": "python",
   "nbconvert_exporter": "python",
   "pygments_lexer": "ipython3",
   "version": "3.13.5"
  }
 },
 "nbformat": 4,
 "nbformat_minor": 5
}
